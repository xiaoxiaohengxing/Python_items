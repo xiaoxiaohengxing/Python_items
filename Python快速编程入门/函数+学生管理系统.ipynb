{
 "cells": [
  {
   "cell_type": "markdown",
   "metadata": {},
   "source": [
    "# 函数的定义和调用"
   ]
  },
  {
   "cell_type": "markdown",
   "metadata": {},
   "source": [
    "## 定义函数\n",
    "    基本格式\n",
    "        def 函数名(参数列表)\n",
    "            \"函数_文档字符串\"\n",
    "            函数体\n",
    "        return 表达式"
   ]
  },
  {
   "cell_type": "code",
   "execution_count": 1,
   "metadata": {},
   "outputs": [],
   "source": [
    "def printInfo():\n",
    "    print('------------')\n",
    "    print('     生命虽短，我用Python')\n",
    "    print('------------')"
   ]
  },
  {
   "cell_type": "markdown",
   "metadata": {},
   "source": [
    "## 调用函数\n",
    "    通过\"函数名()\"即可完成调用"
   ]
  },
  {
   "cell_type": "code",
   "execution_count": 2,
   "metadata": {},
   "outputs": [
    {
     "name": "stdout",
     "output_type": "stream",
     "text": [
      "------------\n",
      "     生命虽短，我用Python\n",
      "------------\n"
     ]
    }
   ],
   "source": [
    "printInfo()"
   ]
  },
  {
   "cell_type": "markdown",
   "metadata": {},
   "source": [
    "# 函数的参数"
   ]
  },
  {
   "cell_type": "markdown",
   "metadata": {},
   "source": [
    "## 函数参数的传递"
   ]
  },
  {
   "cell_type": "code",
   "execution_count": 1,
   "metadata": {},
   "outputs": [
    {
     "name": "stdout",
     "output_type": "stream",
     "text": [
      "33\n"
     ]
    }
   ],
   "source": [
    "# 定义接收2个参数的函数\n",
    "def add2num(a, b):\n",
    "    c = a+b\n",
    "    print(c)\n",
    "add2num(11, 22)"
   ]
  },
  {
   "cell_type": "markdown",
   "metadata": {},
   "source": [
    "## 默认参数"
   ]
  },
  {
   "cell_type": "code",
   "execution_count": 2,
   "metadata": {},
   "outputs": [
    {
     "name": "stdout",
     "output_type": "stream",
     "text": [
      "Name: miki\n",
      "Age: 35\n",
      "Name: miki\n",
      "Age: 9\n"
     ]
    }
   ],
   "source": [
    "def printinfo( name, age = 35 ):\n",
    "   # 打印任何传入的字符串\n",
    "   print(\"Name:\", name)\n",
    "   print(\"Age:\", age)\n",
    "# 调用printinfo函数\n",
    "printinfo(name=\"miki\" )\n",
    "printinfo(age=9,name=\"miki\" )\n"
   ]
  },
  {
   "cell_type": "markdown",
   "metadata": {},
   "source": [
    "## 不定长参数\n",
    "    不定长参数传递个数可以大于定义函数时的参数数目。如果传入的参数没有名字，那么传入的值会给args变量；如果传入的参数有名字，那么传入的值会给kwargs变量"
   ]
  },
  {
   "cell_type": "code",
   "execution_count": 3,
   "metadata": {},
   "outputs": [
    {
     "name": "stdout",
     "output_type": "stream",
     "text": [
      "11\n",
      "22\n",
      "()\n"
     ]
    }
   ],
   "source": [
    "def test(a, b, *args):\n",
    "    print(a)\n",
    "    print(b)\n",
    "    print(args)\n",
    "test(11, 22)"
   ]
  },
  {
   "cell_type": "code",
   "execution_count": 6,
   "metadata": {},
   "outputs": [
    {
     "name": "stdout",
     "output_type": "stream",
     "text": [
      "11\n",
      "22\n",
      "(33, 44, 55, 66, 77, 88, 99)\n"
     ]
    }
   ],
   "source": [
    "def test(a, b, *args):\n",
    "    print(a)\n",
    "    print(b)\n",
    "    print(args)\n",
    "test(11, 22, 33, 44, 55, 66, 77, 88, 99)"
   ]
  },
  {
   "cell_type": "code",
   "execution_count": 7,
   "metadata": {},
   "outputs": [
    {
     "name": "stdout",
     "output_type": "stream",
     "text": [
      "11\n",
      "22\n",
      "(33, 44, 55, 66, 77, 88, 99)\n",
      "{}\n"
     ]
    }
   ],
   "source": [
    "def test(a, b, *args, **kwargs):\n",
    "    print(a)\n",
    "    print(b)\n",
    "    print(args)\n",
    "    print(kwargs)\n",
    "test(11, 22, 33, 44, 55, 66, 77, 88, 99)\n"
   ]
  },
  {
   "cell_type": "code",
   "execution_count": 8,
   "metadata": {},
   "outputs": [
    {
     "name": "stdout",
     "output_type": "stream",
     "text": [
      "11\n",
      "22\n",
      "(33, 44, 55, 66, 77)\n",
      "{'m': 88, 'n': 99}\n"
     ]
    }
   ],
   "source": [
    "def test(a,b,*args,**kwargs):\n",
    "    print(a)\n",
    "    print(b)\n",
    "    print(args)\n",
    "    print(kwargs)\n",
    "test(11,22,33,44,55,66,77,m=88,n=99)"
   ]
  },
  {
   "cell_type": "markdown",
   "metadata": {},
   "source": [
    "# 函数的返回值\n",
    "    程序中函数完成一件事情后，最后给调用者的结果。\n",
    "        def add2num(a, b):\n",
    "            c = a+b\n",
    "            return c\n",
    "        def add2num(a,b)\n",
    "            return a+b"
   ]
  },
  {
   "cell_type": "markdown",
   "metadata": {},
   "source": [
    "## 函数的四种类型"
   ]
  },
  {
   "cell_type": "markdown",
   "metadata": {},
   "source": [
    "### 无参数、无返回值的函数\n",
    "    既不能接收参数，也没有返回值"
   ]
  },
  {
   "cell_type": "code",
   "execution_count": 5,
   "metadata": {},
   "outputs": [
    {
     "name": "stdout",
     "output_type": "stream",
     "text": [
      "--------------------------\n",
      "      xx涮涮锅 点菜系统\n",
      "  1.  羊肉涮涮锅\n",
      "  2.  牛肉涮涮锅\n",
      "  3.  猪肉涮涮锅\n",
      "--------------------------\n"
     ]
    }
   ],
   "source": [
    "def printMenu():\n",
    "    print('--------------------------')\n",
    "    print('      xx涮涮锅 点菜系统')\n",
    "    print('  1.  羊肉涮涮锅')\n",
    "    print('  2.  牛肉涮涮锅')\n",
    "    print('  3.  猪肉涮涮锅')\n",
    "    print('--------------------------')\n",
    "printMenu()"
   ]
  },
  {
   "cell_type": "markdown",
   "metadata": {},
   "source": [
    "### 无参数、有返回值的函数\n",
    "    此类函数不能接收参数，但是可以返回某个数据，一般情况下，采集数据时会用此类函数。"
   ]
  },
  {
   "cell_type": "code",
   "execution_count": 6,
   "metadata": {},
   "outputs": [
    {
     "name": "stdout",
     "output_type": "stream",
     "text": [
      "当前的温度为: 24\n"
     ]
    }
   ],
   "source": [
    "# 获取温度\n",
    "def getTemperature():\n",
    "    #这里是获取温度的一些处理过程\n",
    "    #为了简单起见，先模拟返回一个数据\n",
    "    return 24\n",
    "temperature = getTemperature()\n",
    "print('当前的温度为:',temperature)"
   ]
  },
  {
   "cell_type": "markdown",
   "metadata": {},
   "source": [
    "### 有参数、无返回值的函数\n",
    "    实际开发中用的少，这是因为函数作为功能模块，既然传入了参数，绝大多数情况是希望使用返回值的。这里了解即可。"
   ]
  },
  {
   "cell_type": "code",
   "execution_count": 12,
   "metadata": {},
   "outputs": [],
   "source": [
    "def test (num1,num2):\n",
    "    result = num1+num2\n",
    "    print ('计算结果:%d'%result)"
   ]
  },
  {
   "cell_type": "markdown",
   "metadata": {},
   "source": [
    "### ### 有参数、有返回值的函数\n",
    "    一般处理数据并需要结果的应用，可以使用此类函数。"
   ]
  },
  {
   "cell_type": "code",
   "execution_count": 15,
   "metadata": {},
   "outputs": [
    {
     "name": "stdout",
     "output_type": "stream",
     "text": [
      "1~100的累积和为: 5050\n"
     ]
    }
   ],
   "source": [
    "# 计算1~num的累积和\n",
    "def calculateNum(num):\n",
    "    result = 0\n",
    "    i = 1\n",
    "    while i <= num:\n",
    "        result = result + i\n",
    "        i += 1\n",
    "    return result\n",
    "result = calculateNum(100)\n",
    "print('1~100的累积和为:', result)"
   ]
  },
  {
   "cell_type": "markdown",
   "metadata": {},
   "source": [
    "# 函数案例--名片管理器\n",
    "    要求使用函数完成各种功能，并且根据键盘的输入来选择对应的函数完成这些功能。\n",
    "        共有6种功能，通过接收键盘输入的序号响应用户选择的功能，一旦用户输入了‘6’，就会退出名片管理系统。"
   ]
  },
  {
   "cell_type": "markdown",
   "metadata": {},
   "source": [
    "## 1-输出名片管理器的菜单\n",
    "         定义输出菜单功能的函数。\n",
    "             考虑到该函数只用来输出信息，并且输出的内容是固定不变的，所以定义一个无参数，无返回值的函数displayMenu(),具体如下"
   ]
  },
  {
   "cell_type": "code",
   "execution_count": 17,
   "metadata": {},
   "outputs": [
    {
     "name": "stdout",
     "output_type": "stream",
     "text": [
      "------------------------------\n",
      "   名片管理系统   v8.8\n",
      "1. 添加名片\n",
      "2. 删除名片\n",
      "3. 修改名片\n",
      "4. 查询名片\n",
      "5. 获取所有名片信息\n",
      "6. 退出系统\n",
      "------------------------------\n"
     ]
    }
   ],
   "source": [
    "def displayMenu():\n",
    "    print(\"-\"*30)\n",
    "    print(\"   名片管理系统   v8.8\")\n",
    "    print(\"1. 添加名片\")\n",
    "    print(\"2. 删除名片\")\n",
    "    print(\"3. 修改名片\")\n",
    "    print(\"4. 查询名片\")\n",
    "    print(\"5. 获取所有名片信息\")\n",
    "    print(\"6. 退出系统\")\n",
    "    print(\"-\"*30)\n",
    "i = 0\n",
    "# while i < 1:\n",
    "    # 打印菜单\n",
    "displayMenu()"
   ]
  },
  {
   "cell_type": "markdown",
   "metadata": {},
   "source": [
    "## 2-获取用户输入的信息\n",
    "    菜单显示以后，用户根据提示输入要执行的序号。\n",
    "    通过input()函数从键盘接收用户的选择，并且把选择的序号进行返回，所以定义一个无参数，有返回值的函数getChoice()，具体如下。"
   ]
  },
  {
   "cell_type": "code",
   "execution_count": null,
   "metadata": {},
   "outputs": [],
   "source": [
    "# 获取用户输入的信息\n",
    "def getChoice ():\n",
    "    selectedKey = input (\"请输入选择的序号:\")\n",
    "    return int (selectedKey)"
   ]
  },
  {
   "cell_type": "markdown",
   "metadata": {},
   "source": [
    "    在while循环打印菜单以后，调用getChoice()函数来获取用户输入的信息，具体如下。"
   ]
  },
  {
   "cell_type": "code",
   "execution_count": null,
   "metadata": {},
   "outputs": [],
   "source": [
    "# 等待用户选择\n",
    "key = getChoice()"
   ]
  },
  {
   "cell_type": "markdown",
   "metadata": {},
   "source": [
    "## 3-通过获取序号，执行不同的功能。\n",
    "    获取序号以后，根据序号执行相应的操作。\n",
    "    在while语句的末尾，使用if-elif语句根据用户选择的序号完成相应的功能，具体如下。"
   ]
  },
  {
   "cell_type": "code",
   "execution_count": null,
   "metadata": {},
   "outputs": [],
   "source": [
    "if key == 1:\n",
    "    pass\n",
    "elif key == 2:\n",
    "    pass\n",
    "elif key == 3:\n",
    "    pass\n",
    "elif key == 4:\n",
    "    pass\n",
    "elif key == 5:\n",
    "    pass\n",
    "elif key == 6:\n",
    "    pass\n",
    "else:\n",
    "    print(\"输入有误，请重新输入...\")"
   ]
  },
  {
   "cell_type": "code",
   "execution_count": null,
   "metadata": {},
   "outputs": [],
   "source": []
  },
  {
   "cell_type": "markdown",
   "metadata": {},
   "source": [
    "### 这里只介绍“添加名片”和“查询名片”的功能。"
   ]
  },
  {
   "cell_type": "markdown",
   "metadata": {},
   "source": [
    "#### 添加名片\n",
    "    想保存所有名片的信息，需要用到列表。在while语句的前面，定义一个空的列表。"
   ]
  },
  {
   "cell_type": "code",
   "execution_count": null,
   "metadata": {},
   "outputs": [],
   "source": [
    "nameList = []"
   ]
  },
  {
   "cell_type": "markdown",
   "metadata": {},
   "source": [
    "    用户选择了序号1，此时应该提示用户输入姓名，然后添加到上述空的列表中，因此我们定义一个无参数，无返回值的函数。"
   ]
  },
  {
   "cell_type": "code",
   "execution_count": null,
   "metadata": {},
   "outputs": [],
   "source": [
    "# 添加名片\n",
    "def addInfo():\n",
    "    newName = input (\"请输入姓名:\")\n",
    "    nameList.append(newName)"
   ]
  },
  {
   "cell_type": "markdown",
   "metadata": {},
   "source": [
    "    接着用户选择序号1的时候，调用上述方法实现添加名片的功能。"
   ]
  },
  {
   "cell_type": "code",
   "execution_count": null,
   "metadata": {},
   "outputs": [],
   "source": [
    "if key == 1:\n",
    "    addInfo()"
   ]
  },
  {
   "cell_type": "markdown",
   "metadata": {},
   "source": [
    "#### 查看所有名片的信息\n",
    "    用户选择了序号5，此时应该从列表中获取所有姓名信息，按照固定的格式打印，因此我们定义一个有参数，无返回值的函数，具体如下。"
   ]
  },
  {
   "cell_type": "code",
   "execution_count": null,
   "metadata": {},
   "outputs": [],
   "source": [
    "# 查看所有名片的信息\n",
    "def printAllInfo(nameList):\n",
    "    print(\"=\" * 30)\n",
    "    for info in nameList:\n",
    "        print(info)\n",
    "    print(\"=\" * 30)"
   ]
  },
  {
   "cell_type": "code",
   "execution_count": null,
   "metadata": {},
   "outputs": [],
   "source": [
    "def displayMenu():\n",
    "    print(\"-\"*30)\n",
    "    print(\"   名片管理系统   v8.8\")\n",
    "    print(\"1. 添加名片\")\n",
    "    print(\"2. 删除名片\")\n",
    "    print(\"3. 修改名片\")\n",
    "    print(\"4. 查询名片\")\n",
    "    print(\"5. 获取所有名片信息\")\n",
    "    print(\"6. 退出系统\")\n",
    "    print(\"-\"*30)\n",
    "i = 0\n",
    "nameList = []\n",
    "while i < 1:\n",
    "    # 打印菜单\n",
    "displayMenu()\n",
    "# 获取用户输入的信息\n",
    "def getChoice():\n",
    "    selectedKey = input(\"请输入选择的序号：\")\n",
    "    return int(selectedKey)\n",
    "# 等待用户选择\n",
    "key = getChoice()\n",
    "if key == 1:\n",
    "    addInfo()\n",
    "elif key == 2:\n",
    "    pass\n",
    "elif key == 3:\n",
    "    pass\n",
    "elif key == 4:\n",
    "    pass\n",
    "elif key == 5:\n",
    "    printAllInfo(nameList)\n",
    "elif key == 6:\n",
    "    pass\n",
    "else:\n",
    "    print(\"输入有误，请重新输入...\")\n",
    "# 添加名片\n",
    "def addInfo():\n",
    "    newName = input (\"请输入姓名:\")\n",
    "    nameList.append(newName)\n",
    "# 查看所有名片的信息\n",
    "def printAllInfo(tempList):\n",
    "    print(\"=\" * 30)\n",
    "    for info in tempList:\n",
    "        print(info)\n",
    "    print(\"=\" * 30)"
   ]
  },
  {
   "cell_type": "markdown",
   "metadata": {},
   "source": [
    "# 函数的嵌套调用\n",
    "    在一个函数中调用了另外一个函数，这就是所谓的函数嵌套调用。"
   ]
  },
  {
   "cell_type": "code",
   "execution_count": 9,
   "metadata": {},
   "outputs": [
    {
     "name": "stdout",
     "output_type": "stream",
     "text": [
      "---- testA start----\n",
      "---- testB start----\n",
      "这里是testB函数执行的代码\n",
      "---- testB end----\n",
      "---- testA end----\n"
     ]
    }
   ],
   "source": [
    "def testB():\n",
    "    print('---- testB start----')\n",
    "    print('这里是testB函数执行的代码')\n",
    "    print('---- testB end----')\n",
    "\n",
    "\n",
    "def testA():\n",
    "    print('---- testA start----')\n",
    "    testB()\n",
    "    print('---- testA end----')\n",
    "testA()"
   ]
  },
  {
   "cell_type": "markdown",
   "metadata": {},
   "source": [
    "# 变量作用域"
   ]
  },
  {
   "cell_type": "markdown",
   "metadata": {},
   "source": [
    "## LEGB原则\n",
    "    L（Local）:函数内的区域，包括局部变量和形参。\n",
    "    E（Enclosing）:外面嵌套函数区域。（常见的是闭包函数外的函数。）\n",
    "    G（Global）:全局作用域\n",
    "    B（Built-in）:内建作用域\n",
    "        Python检索变量的时候，先是在局部中查找，如果找不到，便会去局部外的局部找（例如闭包），再找不到就会去全局找，再者去内建中找。"
   ]
  },
  {
   "cell_type": "markdown",
   "metadata": {},
   "source": [
    "## 全局变量和局部变量\n",
    "    局部变量只能在其被声明的函数内部访问，而全局变量可以在整个程序范围内访问。"
   ]
  },
  {
   "cell_type": "markdown",
   "metadata": {},
   "source": [
    "### 全局变量"
   ]
  },
  {
   "cell_type": "code",
   "execution_count": 10,
   "metadata": {},
   "outputs": [
    {
     "name": "stdout",
     "output_type": "stream",
     "text": [
      "a=50\n"
     ]
    }
   ],
   "source": [
    "# # 定义全局变量\n",
    "# a = 100\n",
    "# def test1():\n",
    "#     print(a)\n",
    "# def test2():\n",
    "#     print(a)\n",
    "# # 调用函数\n",
    "# test1()\n",
    "# test2()\n",
    "\n",
    "# a=50\n",
    "# def test():\n",
    "#     a=100\n",
    "#     print(\"a=%d\"%a)\n",
    "# #调用函数\n",
    "# test()\n",
    "\n",
    "a=50\n",
    "def test():\n",
    "    global a\n",
    "    print(\"a=%d\"%a)\n",
    "#调用函数\n",
    "test()"
   ]
  },
  {
   "cell_type": "markdown",
   "metadata": {},
   "source": [
    "### 局部变量"
   ]
  },
  {
   "cell_type": "code",
   "execution_count": 11,
   "metadata": {},
   "outputs": [
    {
     "name": "stdout",
     "output_type": "stream",
     "text": [
      "test1修改前:a=40\n",
      "test1修改后:a=100\n",
      "test2函数:a=200\n"
     ]
    }
   ],
   "source": [
    "def test1():\n",
    "   a=40\n",
    "   print(\"test1修改前:a=%d\"%a)\n",
    "   a=100\n",
    "   print(\"test1修改后:a=%d\"%a)\n",
    "def test2():\n",
    "   a=200\n",
    "   print(\"test2函数:a=%d\"%a)\n",
    "#调用函数\n",
    "test1()\n",
    "test2()"
   ]
  },
  {
   "cell_type": "markdown",
   "metadata": {},
   "source": [
    "### global关键字\n",
    "    用来在函数或其他局部作用域中使用全局变量。但是如果不修改全局变量也可以不使用global关键字。\n",
    "    使用global关键字修饰的变量之前可以不存在，而使用nonlocal关键字修饰的变量在嵌套作用域中必须已经存在。"
   ]
  },
  {
   "cell_type": "code",
   "execution_count": 1,
   "metadata": {},
   "outputs": [
    {
     "name": "stdout",
     "output_type": "stream",
     "text": [
      "200\n"
     ]
    }
   ],
   "source": [
    "a = 100\n",
    "def test():\n",
    "    global a\n",
    "    a +=100\n",
    "    print(a)\n",
    "test()"
   ]
  },
  {
   "cell_type": "markdown",
   "metadata": {},
   "source": [
    "### nonlocal关键字\n",
    "    使用nonlocal关键字可以在一个嵌套的函数中修改嵌套作用域中的变量。"
   ]
  },
  {
   "cell_type": "code",
   "execution_count": 2,
   "metadata": {},
   "outputs": [
    {
     "name": "stdout",
     "output_type": "stream",
     "text": [
      "12\n"
     ]
    }
   ],
   "source": [
    "def func():\n",
    "    count =1\n",
    "    def func_in():\n",
    "        nonlocal count\n",
    "        count =12\n",
    "    func_in()\n",
    "    print(count)\n",
    "func()"
   ]
  },
  {
   "cell_type": "code",
   "execution_count": null,
   "metadata": {},
   "outputs": [],
   "source": []
  },
  {
   "cell_type": "markdown",
   "metadata": {},
   "source": [
    "### 递归函数\n",
    "    如果一个函数在内部不调用其他的函数，而是调用自身的话，这个函数就是递归函数。\n",
    "    描述阶乘5！"
   ]
  },
  {
   "cell_type": "code",
   "execution_count": null,
   "metadata": {},
   "outputs": [],
   "source": [
    "def fn(num):\n",
    "    if num==1:\n",
    "        result=1\n",
    "    else:\n",
    "        result= fn(num-1)*num\n",
    "    return  result\n",
    "n=int(input(\"请输入一个正整数:\"))\n",
    "print(\"%d！=\"%n, fn(n))"
   ]
  },
  {
   "cell_type": "markdown",
   "metadata": {},
   "source": [
    "### 匿名函数\n",
    "    没有名称的函数，也就是不再使用def语句定义的函数。声明匿名函数，则需要使用lambda关键字，匿名函数声明格式如下:\n",
    "        lambda [arg1, [,arg2,...argn]]:expression\n",
    "            [arg1, [,arg2,...argn]]      表示的是函数的参数\n",
    "            expression                   表示函数的表达式\n",
    "    匿名函数能接收任何数量的参数，但只能返回一个表达式的值。匿名函数不能直接调用print(),因为lambda需要一个表达式。"
   ]
  },
  {
   "cell_type": "code",
   "execution_count": 3,
   "metadata": {},
   "outputs": [
    {
     "name": "stdout",
     "output_type": "stream",
     "text": [
      "运行结果： 30\n",
      "运行结果： 40\n"
     ]
    }
   ],
   "source": [
    "sum = lambda arg1, arg2: arg1 + arg2\n",
    "# # 调用sum函数\n",
    "print(\"运行结果：\", sum(10, 20))\n",
    "print(\"运行结果：\", sum(20, 20))"
   ]
  },
  {
   "cell_type": "markdown",
   "metadata": {},
   "source": [
    "#### 匿名函数1\n",
    "    假设之前我们要对两个数进行运算，如果希望声明的函数支持所有的运算，可以将匿名函数作为函数参数传递。"
   ]
  },
  {
   "cell_type": "code",
   "execution_count": 4,
   "metadata": {},
   "outputs": [
    {
     "name": "stdout",
     "output_type": "stream",
     "text": [
      "a=11\n",
      "b=22\n",
      "result= 33\n",
      "-------------------\n",
      "a=11\n",
      "b=22\n",
      "result= -11\n"
     ]
    }
   ],
   "source": [
    "def fun(a,b,opt):\n",
    "    print(\"a=%d\"%a)\n",
    "    print(\"b=%d\" %b)\n",
    "    print(\"result=\",opt(a,b))\n",
    "fun(11,22,lambda x,y:x+y)\n",
    "print(\"-------------------\")\n",
    "fun(11,22,lambda x,y:x-y)"
   ]
  },
  {
   "cell_type": "markdown",
   "metadata": {},
   "source": [
    "#### 匿名函数2\n",
    "    匿名函数还通常作为内置函数的参数来使用"
   ]
  },
  {
   "cell_type": "code",
   "execution_count": 5,
   "metadata": {},
   "outputs": [
    {
     "name": "stdout",
     "output_type": "stream",
     "text": [
      "按name排序后的结果为： [{'name': 'lisi', 'age': 19}, {'name': 'wangwu', 'age': 17}, {'name': 'zhangsan', 'age': 18}]\n",
      "按age排序后的结果为： [{'name': 'wangwu', 'age': 17}, {'name': 'zhangsan', 'age': 18}, {'name': 'lisi', 'age': 19}]\n"
     ]
    }
   ],
   "source": [
    "stus = [\n",
    "    {\"name\":\"zhangsan\", \"age\":18},\n",
    "    {\"name\":\"lisi\", \"age\":19},\n",
    "    {\"name\":\"wangwu\", \"age\":17}\n",
    "]\n",
    "#按name排序：\n",
    "stus.sort(key = lambda x:x['name'])\n",
    "print(\"按name排序后的结果为：\",stus)\n",
    "#按age排序\n",
    "stus.sort(key = lambda x:x['age'])\n",
    "print(\"按age排序后的结果为：\",stus)"
   ]
  },
  {
   "cell_type": "markdown",
   "metadata": {},
   "source": [
    "#### def和lambda主要区别\n",
    "    lambda返回的结果通常是一个对象或者一个表达式，它不会将结果赋给一个变量，而def则可以。\n",
    "    lambda 一般用来定义简单的函数，而def可以定义复杂的函数\n",
    "    lambda函数不能共享给别的程序调用，def可以。"
   ]
  },
  {
   "cell_type": "markdown",
   "metadata": {},
   "source": [
    "### 日期时间函数\n",
    "    time\n",
    "    calendar"
   ]
  },
  {
   "cell_type": "markdown",
   "metadata": {},
   "source": [
    "#### 时间函数\n",
    "    几种方式表示时间:\n",
    "        1-时间戳\n",
    "        2-格式化的时间字符串\n",
    "        3-时间元组（struct_time）"
   ]
  },
  {
   "cell_type": "markdown",
   "metadata": {},
   "source": [
    "##### 时间戳\n",
    "    指从1970年1月1日 00：00:00开始按秒计算的偏移量。\n",
    "    返回时间戳的函数主要有time()、clock()等"
   ]
  },
  {
   "cell_type": "code",
   "execution_count": 6,
   "metadata": {},
   "outputs": [
    {
     "name": "stdout",
     "output_type": "stream",
     "text": [
      "当前时间戳为: 1546916086.6341438\n"
     ]
    }
   ],
   "source": [
    "import time;  # 引入time模块\n",
    "ticks = time.time()\n",
    "print(\"当前时间戳为:\", ticks)"
   ]
  },
  {
   "cell_type": "markdown",
   "metadata": {},
   "source": [
    "##### 格式化的时间字符串\n",
    "    使用time()模块的strftime()方法来格式化日期\n",
    "        time.strftime(format[,t])"
   ]
  },
  {
   "cell_type": "code",
   "execution_count": 7,
   "metadata": {},
   "outputs": [
    {
     "name": "stdout",
     "output_type": "stream",
     "text": [
      "2019-01-08 11:02:21\n"
     ]
    }
   ],
   "source": [
    "import time\n",
    "# 格式化成2016-03-20 11:45:39形式\n",
    "print(time.strftime(\"%Y-%m-%d %H:%M:%S\", time.localtime()))"
   ]
  },
  {
   "cell_type": "code",
   "execution_count": 8,
   "metadata": {},
   "outputs": [
    {
     "name": "stdout",
     "output_type": "stream",
     "text": [
      "Tue Jan 08 11:02:38 2019\n"
     ]
    }
   ],
   "source": [
    "# 格式化成Sat Mar 28 22:24:24 2016形式\n",
    "print(time.strftime(\"%a %b %d %H:%M:%S %Y\", time.localtime()))"
   ]
  },
  {
   "cell_type": "code",
   "execution_count": 10,
   "metadata": {},
   "outputs": [
    {
     "name": "stdout",
     "output_type": "stream",
     "text": [
      "1546916558.0\n"
     ]
    }
   ],
   "source": [
    "# 将格式字符串转换为时间戳\n",
    "a = \"Tue Jan 08 11:02:38 2019\"\n",
    "print(time.mktime(time.strptime(a, \"%a %b %d %H:%M:%S %Y\")))"
   ]
  },
  {
   "cell_type": "markdown",
   "metadata": {},
   "source": [
    "#### 日历函数\n",
    "    处理年历和月历\n",
    "        如打印某月的月历"
   ]
  },
  {
   "cell_type": "code",
   "execution_count": 12,
   "metadata": {},
   "outputs": [
    {
     "name": "stdout",
     "output_type": "stream",
     "text": [
      "以下输出2019年1月份的日历:\n",
      "    January 2019\n",
      "Mo Tu We Th Fr Sa Su\n",
      "    1  2  3  4  5  6\n",
      " 7  8  9 10 11 12 13\n",
      "14 15 16 17 18 19 20\n",
      "21 22 23 24 25 26 27\n",
      "28 29 30 31\n",
      "\n"
     ]
    }
   ],
   "source": [
    "import calendar\n",
    "cal = calendar.month(2019, 1)\n",
    "print(\"以下输出2019年1月份的日历:\")\n",
    "print(cal)"
   ]
  },
  {
   "cell_type": "markdown",
   "metadata": {},
   "source": [
    "### 随机数函数"
   ]
  },
  {
   "cell_type": "markdown",
   "metadata": {},
   "source": [
    "#### 1-random.random()\n",
    "    用于生成一个0-1之间的随机浮点数:n <= n<1.0"
   ]
  },
  {
   "cell_type": "code",
   "execution_count": 13,
   "metadata": {},
   "outputs": [
    {
     "name": "stdout",
     "output_type": "stream",
     "text": [
      "random(): 0.5065827930835667\n"
     ]
    }
   ],
   "source": [
    "import random\n",
    "# 生成第一个随机数\n",
    "print(\"random():\", random.random())"
   ]
  },
  {
   "cell_type": "code",
   "execution_count": 14,
   "metadata": {},
   "outputs": [
    {
     "name": "stdout",
     "output_type": "stream",
     "text": [
      "random(): 0.009397641784360866\n"
     ]
    }
   ],
   "source": [
    "# 生成第二个随机数\n",
    "print(\"random():\", random.random())"
   ]
  },
  {
   "cell_type": "markdown",
   "metadata": {},
   "source": [
    "#### 2-random.uniform(a,b)\n",
    "    随机浮点数N，范围为[a,b]"
   ]
  },
  {
   "cell_type": "code",
   "execution_count": 16,
   "metadata": {},
   "outputs": [
    {
     "name": "stdout",
     "output_type": "stream",
     "text": [
      "random: 52.370901263054826\n",
      "random: 82.8135542677417\n"
     ]
    }
   ],
   "source": [
    "import random\n",
    "print(\"random:\",random.uniform(50,100))\n",
    "print(\"random:\",random.uniform(100,50))"
   ]
  },
  {
   "cell_type": "markdown",
   "metadata": {},
   "source": [
    "#### 3-random.randint(a,b)\n",
    "    返回一个随机的整数N，N的范围为[a,b]"
   ]
  },
  {
   "cell_type": "code",
   "execution_count": 17,
   "metadata": {},
   "outputs": [
    {
     "name": "stdout",
     "output_type": "stream",
     "text": [
      "12\n"
     ]
    }
   ],
   "source": [
    "import random\n",
    "#生成的随机数n: 12 <= n <= 20\n",
    "print(random.randint(12,20))"
   ]
  },
  {
   "cell_type": "code",
   "execution_count": 18,
   "metadata": {},
   "outputs": [
    {
     "name": "stdout",
     "output_type": "stream",
     "text": [
      "20\n"
     ]
    }
   ],
   "source": [
    "#结果永远是20\n",
    "print(random.randint(20,20))\n",
    "#print random.randint(20, 10)   #该语句是错误的。下限必须小于上限。  "
   ]
  },
  {
   "cell_type": "markdown",
   "metadata": {},
   "source": [
    "### 阶段案例--学生管理系统\n",
    "    要求：\n",
    "        1-使用自定义函数，完成对程序的模块化\n",
    "        2-学生信息至少包含:姓名、性别及手机号\n",
    "        3-该系统具有的功能:添加、删除、修改、显示、退出系统。\n",
    "    设计思路：\n",
    "        1-提示用户选择功能操作\n",
    "        2-获取用户选择的功能\n",
    "        3-根据用户的选择，分别调用不同的函数，执行相应的功能。"
   ]
  },
  {
   "cell_type": "markdown",
   "metadata": {},
   "source": [
    "#### 1-新建一个列表，用来保存学生的所有信息"
   ]
  },
  {
   "cell_type": "code",
   "execution_count": null,
   "metadata": {},
   "outputs": [],
   "source": [
    "#用来保存学生的所有信息\n",
    "stuInfos=[]"
   ]
  },
  {
   "cell_type": "markdown",
   "metadata": {},
   "source": [
    "####  2-定义一个打印功能菜单的函数"
   ]
  },
  {
   "cell_type": "code",
   "execution_count": 19,
   "metadata": {},
   "outputs": [],
   "source": [
    "#打印功能提示\n",
    "def printMenu():\n",
    "    print(\"=\"*30)\n",
    "    print(\" 学生管理系统V1.0 \")\n",
    "    print(\"1.添加学生信息\")\n",
    "    print(\"2.删除学生信息\")\n",
    "    print(\"3.修改学生信息\")\n",
    "    print(\"4.显示所有学生信息\")\n",
    "    print(\"0.退出系统\")\n",
    "    print(\"=\"*30)"
   ]
  },
  {
   "cell_type": "markdown",
   "metadata": {},
   "source": [
    "#### 3-定义一个添加学生信息的函数"
   ]
  },
  {
   "cell_type": "code",
   "execution_count": 20,
   "metadata": {},
   "outputs": [],
   "source": [
    "#添加一个学生信息\n",
    "def addStuInfo():\n",
    "    # 提示并获取学生的姓名\n",
    "    newName = input(\"请输入新学生的名字：\")\n",
    "    # 提示并获取学生的性别\n",
    "    newSex = input(\"请输入新学生的性别：(男/女)\")\n",
    "    # 提示并获取学生的手机号码\n",
    "    newPhone = input(\"请输入新学生的手机号码：\")\n",
    "    newInfo = {}\n",
    "    newInfo['name'] = newName\n",
    "    newInfo['sex'] = newSex\n",
    "    newInfo['phone'] = newPhone\n",
    "    stuInfos.append(newInfo)"
   ]
  },
  {
   "cell_type": "markdown",
   "metadata": {},
   "source": [
    "#### 4-定义删除学生信息的函数"
   ]
  },
  {
   "cell_type": "code",
   "execution_count": null,
   "metadata": {},
   "outputs": [],
   "source": [
    "def delStuInfo(student):\n",
    "    delNum = int (input(\"请输入要删除的序号:\"))-1\n",
    "    del student [delNum]"
   ]
  },
  {
   "cell_type": "markdown",
   "metadata": {},
   "source": [
    "####  5-定义修改学生信息的函数"
   ]
  },
  {
   "cell_type": "code",
   "execution_count": 21,
   "metadata": {},
   "outputs": [],
   "source": [
    "#修改一个学生的信息\n",
    "def modifyStuInfo():\n",
    "     stuId=int(input(\"请输入要修改的学生的序号：\"))\n",
    "     newName = input(\"请输入新学生的名字：\")\n",
    "     newSex = input(\"请输入新学生的性别：(男/女)\")\n",
    "     newPhone = input(\"请输入新学生的手机号码：\")\n",
    "     stuInfos[stuId - 1]['name'] = newName\n",
    "     stuInfos[stuId - 1]['sex'] = newSex\n",
    "     stuInfos[stuId - 1]['phone'] = newPhone"
   ]
  },
  {
   "cell_type": "markdown",
   "metadata": {},
   "source": [
    "### 6-定义显示学生信息的函数"
   ]
  },
  {
   "cell_type": "code",
   "execution_count": 22,
   "metadata": {},
   "outputs": [],
   "source": [
    "# 定义一个用户显示所有学生信息的函数\n",
    "def showStuInfo():\n",
    "    print(\"=\" * 30)\n",
    "    print(\"学生的信息如下:\")\n",
    "    print(\"=\" * 30)\n",
    "    print(\"序号    姓名    性别   手机号码\")\n",
    "    i = 1\n",
    "    for tempInfo in stuInfos:\n",
    "        print(\"%d      %s      %s     %s\" % (i, tempInfo['name'],tempInfo['sex'], tempInfo['phone']))\n",
    "        i += 1"
   ]
  },
  {
   "cell_type": "markdown",
   "metadata": {},
   "source": [
    "#### 7-在main函数中执行不同的功能"
   ]
  },
  {
   "cell_type": "code",
   "execution_count": 25,
   "metadata": {},
   "outputs": [
    {
     "name": "stdout",
     "output_type": "stream",
     "text": [
      "==============================\n",
      " 学生管理系统V1.0 \n",
      "1.添加学生信息\n",
      "2.删除学生信息\n",
      "3.修改学生信息\n",
      "4.显示所有学生信息\n",
      "0.退出系统\n",
      "==============================\n",
      "请输入功能对应的数字1\n",
      "请输入新学生的名字：杜佳恒\n",
      "请输入新学生的性别：(男/女)男\n",
      "请输入新学生的手机号码：17857699692\n"
     ]
    },
    {
     "ename": "NameError",
     "evalue": "name 'stuInfos' is not defined",
     "output_type": "error",
     "traceback": [
      "\u001b[1;31m---------------------------------------------------------------------------\u001b[0m",
      "\u001b[1;31mNameError\u001b[0m                                 Traceback (most recent call last)",
      "\u001b[1;32m<ipython-input-25-5323162e393d>\u001b[0m in \u001b[0;36m<module>\u001b[1;34m()\u001b[0m\n\u001b[0;32m     17\u001b[0m             \u001b[1;32melse\u001b[0m\u001b[1;33m:\u001b[0m\u001b[1;33m\u001b[0m\u001b[0m\n\u001b[0;32m     18\u001b[0m                 \u001b[0mprint\u001b[0m\u001b[1;33m(\u001b[0m\u001b[1;34m\"输入有误，请重新输入\"\u001b[0m\u001b[1;33m)\u001b[0m\u001b[1;33m\u001b[0m\u001b[0m\n\u001b[1;32m---> 19\u001b[1;33m \u001b[0mmain\u001b[0m\u001b[1;33m(\u001b[0m\u001b[1;33m)\u001b[0m\u001b[1;33m\u001b[0m\u001b[0m\n\u001b[0m",
      "\u001b[1;32m<ipython-input-25-5323162e393d>\u001b[0m in \u001b[0;36mmain\u001b[1;34m()\u001b[0m\n\u001b[0;32m      4\u001b[0m         \u001b[0mkey\u001b[0m \u001b[1;33m=\u001b[0m \u001b[0minput\u001b[0m\u001b[1;33m(\u001b[0m\u001b[1;34m\"请输入功能对应的数字\"\u001b[0m\u001b[1;33m)\u001b[0m  \u001b[1;31m#获得用户输入的序号\u001b[0m\u001b[1;33m\u001b[0m\u001b[0m\n\u001b[0;32m      5\u001b[0m         \u001b[1;32mif\u001b[0m \u001b[0mkey\u001b[0m \u001b[1;33m==\u001b[0m \u001b[1;34m'1'\u001b[0m\u001b[1;33m:\u001b[0m      \u001b[1;31m# 添加学生的信息\u001b[0m\u001b[1;33m\u001b[0m\u001b[0m\n\u001b[1;32m----> 6\u001b[1;33m             \u001b[0maddStuInfo\u001b[0m\u001b[1;33m(\u001b[0m\u001b[1;33m)\u001b[0m\u001b[1;33m\u001b[0m\u001b[0m\n\u001b[0m\u001b[0;32m      7\u001b[0m         \u001b[1;32melif\u001b[0m \u001b[0mkey\u001b[0m \u001b[1;33m==\u001b[0m \u001b[1;34m'2'\u001b[0m\u001b[1;33m:\u001b[0m    \u001b[1;31m# 删除学生信息\u001b[0m\u001b[1;33m\u001b[0m\u001b[0m\n\u001b[0;32m      8\u001b[0m             \u001b[0mdelStuInfo\u001b[0m\u001b[1;33m(\u001b[0m\u001b[0mStuInfos\u001b[0m\u001b[1;33m)\u001b[0m\u001b[1;33m\u001b[0m\u001b[0m\n",
      "\u001b[1;32m<ipython-input-20-0b7d2a29d9df>\u001b[0m in \u001b[0;36maddStuInfo\u001b[1;34m()\u001b[0m\n\u001b[0;32m     11\u001b[0m     \u001b[0mnewInfo\u001b[0m\u001b[1;33m[\u001b[0m\u001b[1;34m'sex'\u001b[0m\u001b[1;33m]\u001b[0m \u001b[1;33m=\u001b[0m \u001b[0mnewSex\u001b[0m\u001b[1;33m\u001b[0m\u001b[0m\n\u001b[0;32m     12\u001b[0m     \u001b[0mnewInfo\u001b[0m\u001b[1;33m[\u001b[0m\u001b[1;34m'phone'\u001b[0m\u001b[1;33m]\u001b[0m \u001b[1;33m=\u001b[0m \u001b[0mnewPhone\u001b[0m\u001b[1;33m\u001b[0m\u001b[0m\n\u001b[1;32m---> 13\u001b[1;33m     \u001b[0mstuInfos\u001b[0m\u001b[1;33m.\u001b[0m\u001b[0mappend\u001b[0m\u001b[1;33m(\u001b[0m\u001b[0mnewInfo\u001b[0m\u001b[1;33m)\u001b[0m\u001b[1;33m\u001b[0m\u001b[0m\n\u001b[0m",
      "\u001b[1;31mNameError\u001b[0m: name 'stuInfos' is not defined"
     ]
    }
   ],
   "source": [
    "def main():\n",
    "    while True: \n",
    "        printMenu()    # 打印菜单\n",
    "        key = input(\"请输入功能对应的数字\")  #获得用户输入的序号\n",
    "        if key == '1':      # 添加学生的信息\n",
    "            addStuInfo()\n",
    "        elif key == '2':    # 删除学生信息\n",
    "            delStuInfo(StuInfos)\n",
    "        elif key == '3':    # 修改学生信息\n",
    "            modifyStuInfo()\n",
    "        elif key == '4':    # 查看所有学生信息\n",
    "            showStuInfo()\n",
    "        elif key =='0':# 退出系统\n",
    "            quitConfirm == input(\"亲，真的要退出么？(Yes or No):\")\n",
    "            if quitConfirm ==\"Yes\":\n",
    "                break #结束循环\n",
    "            else:\n",
    "                print(\"输入有误，请重新输入\")\n",
    "main()"
   ]
  },
  {
   "cell_type": "code",
   "execution_count": null,
   "metadata": {},
   "outputs": [
    {
     "name": "stdout",
     "output_type": "stream",
     "text": [
      "==============================\n",
      " 学生管理系统V1.0 \n",
      "1.添加学生信息\n",
      "2.删除学生信息\n",
      "3.修改学生信息\n",
      "4.显示所有学生信息\n",
      "0.退出系统\n",
      "==============================\n",
      "请输入功能对应的数字1\n",
      "请输入新学生的名字：大多\n",
      "请输入新学生的性别：(男/女)男\n",
      "请输入新学生的手机号码：56789\n",
      "==============================\n",
      " 学生管理系统V1.0 \n",
      "1.添加学生信息\n",
      "2.删除学生信息\n",
      "3.修改学生信息\n",
      "4.显示所有学生信息\n",
      "0.退出系统\n",
      "==============================\n",
      "请输入功能对应的数字2\n",
      "请输入要删除的序号:1\n",
      "==============================\n",
      " 学生管理系统V1.0 \n",
      "1.添加学生信息\n",
      "2.删除学生信息\n",
      "3.修改学生信息\n",
      "4.显示所有学生信息\n",
      "0.退出系统\n",
      "==============================\n",
      "请输入功能对应的数字1\n",
      "请输入新学生的名字：4\n",
      "请输入新学生的性别：(男/女)123\n",
      "请输入新学生的手机号码：2\n",
      "==============================\n",
      " 学生管理系统V1.0 \n",
      "1.添加学生信息\n",
      "2.删除学生信息\n",
      "3.修改学生信息\n",
      "4.显示所有学生信息\n",
      "0.退出系统\n",
      "==============================\n"
     ]
    }
   ],
   "source": [
    "#用来保存学生的所有信息\n",
    "stuInfos=[]\n",
    "#打印功能提示\n",
    "def printMenu():\n",
    "    print(\"=\"*30)\n",
    "    print(\" 学生管理系统V1.0 \")\n",
    "    print(\"1.添加学生信息\")\n",
    "    print(\"2.删除学生信息\")\n",
    "    print(\"3.修改学生信息\")\n",
    "    print(\"4.显示所有学生信息\")\n",
    "    print(\"0.退出系统\")\n",
    "    print(\"=\"*30)\n",
    "#添加一个学生信息\n",
    "def addStuInfo():\n",
    "    # 提示并获取学生的姓名\n",
    "    newName = input(\"请输入新学生的名字：\")\n",
    "    # 提示并获取学生的性别\n",
    "    newSex = input(\"请输入新学生的性别：(男/女)\")\n",
    "    # 提示并获取学生的手机号码\n",
    "    newPhone = input(\"请输入新学生的手机号码：\")\n",
    "    newInfo = {}\n",
    "    newInfo['name'] = newName\n",
    "    newInfo['sex'] = newSex\n",
    "    newInfo['phone'] = newPhone\n",
    "    stuInfos.append(newInfo)\n",
    "    \n",
    "#删除一个学生的信息    \n",
    "def delStuInfo(stuInfos):\n",
    "    delNum = int (input(\"请输入要删除的序号:\"))-1\n",
    "    del stuInfos [delNum]\n",
    "    \n",
    "#修改一个学生的信息\n",
    "def modifyStuInfo():\n",
    "     stuId=int(input(\"请输入要修改的学生的序号：\"))\n",
    "     newName = input(\"请输入新学生的名字：\")\n",
    "     newSex = input(\"请输入新学生的性别：(男/女)\")\n",
    "     newPhone = input(\"请输入新学生的手机号码：\")\n",
    "     stuInfos[stuId - 1]['name'] = newName\n",
    "     stuInfos[stuId - 1]['sex'] = newSex\n",
    "     stuInfos[stuId - 1]['phone'] = newPhone\n",
    "# 定义一个用户显示所有学生信息的函数\n",
    "def showStuInfo():\n",
    "    print(\"=\" * 30)\n",
    "    print(\"学生的信息如下:\")\n",
    "    print(\"=\" * 30)\n",
    "    print(\"序号    姓名    性别   手机号码\")\n",
    "    i = 1\n",
    "    for tempInfo in stuInfos:\n",
    "        print(\"%d      %s      %s     %s\" % (i, tempInfo['name'],tempInfo['sex'], tempInfo['phone']))\n",
    "        i += 1\n",
    "def main():\n",
    "    while True: \n",
    "        printMenu()    # 打印菜单\n",
    "        key = input(\"请输入功能对应的数字\")  #获得用户输入的序号\n",
    "        if key == '1':      # 添加学生的信息\n",
    "            addStuInfo()\n",
    "        elif key == '2':    # 删除学生信息\n",
    "            delStuInfo(stuInfos)\n",
    "        elif key == '3':    # 修改学生信息\n",
    "            modifyStuInfo()\n",
    "        elif key == '4':    # 查看所有学生信息\n",
    "            showStuInfo()\n",
    "        elif key =='0':# 退出系统\n",
    "            quitConfirm == input(\"亲，真的要退出么？(Yes or No):\")\n",
    "            if quitConfirm ==\"Yes\":\n",
    "                break #结束循环\n",
    "            else:\n",
    "                print(\"输入有误，请重新输入\")\n",
    "main()"
   ]
  },
  {
   "cell_type": "code",
   "execution_count": null,
   "metadata": {},
   "outputs": [],
   "source": []
  },
  {
   "cell_type": "code",
   "execution_count": null,
   "metadata": {},
   "outputs": [],
   "source": []
  },
  {
   "cell_type": "code",
   "execution_count": null,
   "metadata": {},
   "outputs": [],
   "source": []
  },
  {
   "cell_type": "code",
   "execution_count": null,
   "metadata": {},
   "outputs": [],
   "source": []
  }
 ],
 "metadata": {
  "kernelspec": {
   "display_name": "Python 3",
   "language": "python",
   "name": "python3"
  },
  "language_info": {
   "codemirror_mode": {
    "name": "ipython",
    "version": 3
   },
   "file_extension": ".py",
   "mimetype": "text/x-python",
   "name": "python",
   "nbconvert_exporter": "python",
   "pygments_lexer": "ipython3",
   "version": "3.7.0"
  }
 },
 "nbformat": 4,
 "nbformat_minor": 2
}
