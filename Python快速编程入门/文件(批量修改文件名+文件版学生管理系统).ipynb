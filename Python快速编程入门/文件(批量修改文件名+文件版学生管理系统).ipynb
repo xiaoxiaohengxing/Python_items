{
 "cells": [
  {
   "cell_type": "markdown",
   "metadata": {},
   "source": [
    "# 文件的读写"
   ]
  },
  {
   "cell_type": "markdown",
   "metadata": {},
   "source": [
    "## 写文件\n",
    "    write函数传入的参数必须是字符串类型"
   ]
  },
  {
   "cell_type": "code",
   "execution_count": 3,
   "metadata": {},
   "outputs": [],
   "source": [
    "f = open('itheima.txt', 'w')\n",
    "f.write('hello itheima, i am here!')\n",
    "f.write('\\n')\n",
    "f.write('hello itheima, i am here!')\n",
    "f.write('\\n')\n",
    "f.write('hello itheima, i am here!')\n",
    "f.close()"
   ]
  },
  {
   "cell_type": "markdown",
   "metadata": {},
   "source": [
    "## 读文件"
   ]
  },
  {
   "cell_type": "markdown",
   "metadata": {},
   "source": [
    "### 使用read方法读取文件\n",
    "    read(size)\n",
    "        指读取的数据长度\n",
    "        没有指定size，那么就表示读取文件的全部数据"
   ]
  },
  {
   "cell_type": "code",
   "execution_count": 4,
   "metadata": {},
   "outputs": [
    {
     "name": "stdout",
     "output_type": "stream",
     "text": [
      "hello itheim\n",
      "------------------------------\n",
      "a, i am here!\n",
      "hello itheima, i am here!\n",
      "hello itheima, i am here!\n"
     ]
    }
   ],
   "source": [
    "f = open('itheima.txt', 'r')\n",
    "content = f.read(12)\n",
    "print(content)\n",
    "print(\"-\"*30)\n",
    "content = f.read()\n",
    "print(content)\n",
    "f.close()"
   ]
  },
  {
   "cell_type": "markdown",
   "metadata": {},
   "source": [
    "### 使用readlines方法读取文件\n",
    "    文件内容少，可对内容进行一次性读取\n",
    "    返回一个列表，列表中每一个元素为文件中的每一行数据"
   ]
  },
  {
   "cell_type": "code",
   "execution_count": 6,
   "metadata": {},
   "outputs": [
    {
     "name": "stdout",
     "output_type": "stream",
     "text": [
      "1:hello itheima, i am here!\n",
      "\n",
      "2:hello itheima, i am here!\n",
      "\n",
      "3:hello itheima, i am here!\n"
     ]
    }
   ],
   "source": [
    "f = open('itheima.txt', 'r')\n",
    "content = f.readlines()\n",
    "i = 1\n",
    "for temp in content:\n",
    "     print(\"%d:%s\" % (i, temp))\n",
    "     i += 1\n",
    "f.close()"
   ]
  },
  {
   "cell_type": "markdown",
   "metadata": {},
   "source": [
    "### 使用readline方法一行一行读数据"
   ]
  },
  {
   "cell_type": "code",
   "execution_count": 7,
   "metadata": {},
   "outputs": [
    {
     "name": "stdout",
     "output_type": "stream",
     "text": [
      "1:hello itheima, i am here!\n",
      "\n",
      "2:hello itheima, i am here!\n",
      "\n"
     ]
    }
   ],
   "source": [
    "f = open('itheima.txt', 'r')\n",
    "content = f.readline()\n",
    "print(\"1:%s\"%content)\n",
    "content = f.readline()\n",
    "print(\"2:%s\"%content)\n",
    "f.close()"
   ]
  },
  {
   "cell_type": "markdown",
   "metadata": {},
   "source": [
    "## 文件读写应用--制作文件的备份\n",
    "    文件的备份就是文件读写的过程。"
   ]
  },
  {
   "cell_type": "code",
   "execution_count": 8,
   "metadata": {},
   "outputs": [
    {
     "name": "stdout",
     "output_type": "stream",
     "text": [
      "请输入要拷贝的文件名字:itheima.txt\n"
     ]
    }
   ],
   "source": [
    "oldFileName = input(\"请输入要拷贝的文件名字:\")\n",
    "oldFile = open(oldFileName,'r')\n",
    "# 如果打开文件\n",
    "if oldFile:\n",
    "    # 提取文件的后缀\n",
    "    fileFlagNum = oldFileName.rfind('.')\n",
    "    if fileFlagNum > 0:\n",
    "        fileFlag = oldFileName[fileFlagNum:]\n",
    "        # 组织新的文件名字\n",
    "        newFileName = oldFileName[:fileFlagNum] + '[复件]' + fileFlag\n",
    "    # 创建新文件\n",
    "    newFile = open(newFileName, 'w')\n",
    "    # 把旧文件中的数据，一行一行的进行复制到新文件中\n",
    "    for lineContent in oldFile.readlines():\n",
    "        newFile.write(lineContent)\n",
    "# 关闭文件\n",
    "oldFile.close()\n",
    "newFile.close()"
   ]
  },
  {
   "cell_type": "markdown",
   "metadata": {},
   "source": [
    "## 文件的定位读写\n",
    "    实际开发中，可能会需要从文件的某个特定位置开始读写，则需要对文件的读写位置进行定位。"
   ]
  },
  {
   "cell_type": "markdown",
   "metadata": {},
   "source": [
    "### 使用tell方法获取文件当前的读写位置"
   ]
  },
  {
   "cell_type": "code",
   "execution_count": 10,
   "metadata": {},
   "outputs": [
    {
     "name": "stdout",
     "output_type": "stream",
     "text": [
      "读取的数据是 :  hell\n",
      "当前文件位置 :  4\n"
     ]
    }
   ],
   "source": [
    "# 打开一个已经存在的文件\n",
    "f = open(\"itheima.txt\", \"r\")\n",
    "str = f.read(4)\n",
    "print(\"读取的数据是 : \", str)\n",
    "# 查找当前位置\n",
    "position = f.tell()\n",
    "print(\"当前文件位置 : \", position)"
   ]
  },
  {
   "cell_type": "code",
   "execution_count": 11,
   "metadata": {},
   "outputs": [
    {
     "name": "stdout",
     "output_type": "stream",
     "text": [
      "读取的数据是 :  o itheim\n",
      "当前文件位置 :  12\n"
     ]
    }
   ],
   "source": [
    "str = f.read(8)\n",
    "print(\"读取的数据是 : \", str)\n",
    "# 查找当前位置\n",
    "position = f.tell()\n",
    "print(\"当前文件位置 : \", position)"
   ]
  },
  {
   "cell_type": "code",
   "execution_count": 12,
   "metadata": {},
   "outputs": [
    {
     "name": "stdout",
     "output_type": "stream",
     "text": [
      "读取的数据是 :  a, \n",
      "当前文件位置 :  15\n"
     ]
    }
   ],
   "source": [
    "str = f.read(3)\n",
    "print(\"读取的数据是 : \", str)\n",
    "# 查找当前位置\n",
    "position = f.tell()\n",
    "print(\"当前文件位置 : \", position)\n",
    "f.close()"
   ]
  },
  {
   "cell_type": "markdown",
   "metadata": {},
   "source": [
    "### 使用seek方法定位到文件的指定位置\n",
    "    需要从指定的位置开始读写操作，就可以使用seek方法实现。\n",
    "    seek方法的定义语法如下:\n",
    "        seek(offset[,whence])\n",
    "    seek方法的参数介绍\n",
    "        1-offset:\n",
    "            表示偏移量，也就是需要移动的字节数。\n",
    "        2-whence表示方向，该参数的值有三个\n",
    "            0：whence参数默认值，表示从文件的起始位置开始偏移\n",
    "            1:表示从文件当前的位置开始偏移\n",
    "            2:从文件末尾开始偏移"
   ]
  },
  {
   "cell_type": "code",
   "execution_count": 14,
   "metadata": {},
   "outputs": [
    {
     "name": "stdout",
     "output_type": "stream",
     "text": [
      "读取的数据是: hello itheima, \n",
      "当前文件的位置是： 15\n"
     ]
    }
   ],
   "source": [
    "f=open(\"itheima.txt\",\"r\")\n",
    "str=f.read(15)\n",
    "print(\"读取的数据是:\",str)\n",
    "#查找当前位置\n",
    "position=f.tell()\n",
    "print(\"当前文件的位置是：\",position)"
   ]
  },
  {
   "cell_type": "markdown",
   "metadata": {},
   "source": [
    "#### 假设要从文件开头偏移四个字节"
   ]
  },
  {
   "cell_type": "code",
   "execution_count": 23,
   "metadata": {},
   "outputs": [
    {
     "name": "stdout",
     "output_type": "stream",
     "text": [
      "读取的数据是: o itheima, i am\n",
      "当前文件的位置是： 4\n"
     ]
    }
   ],
   "source": [
    "f=open(\"itheima.txt\",\"r\")\n",
    "#重新设置位置\n",
    "f.seek(4)\n",
    "#查找当前位置\n",
    "position=f.tell()\n",
    "str=f.read(15)\n",
    "print(\"读取的数据是:\",str)\n",
    "print(\"当前文件的位置是：\",position)\n",
    "f.close()"
   ]
  },
  {
   "cell_type": "markdown",
   "metadata": {},
   "source": [
    "#### 读写位置在当前位置偏移四个字节\n",
    "                1:表示从文件当前的位置开始偏移"
   ]
  },
  {
   "cell_type": "code",
   "execution_count": 42,
   "metadata": {},
   "outputs": [
    {
     "name": "stdout",
     "output_type": "stream",
     "text": [
      "读取的数据是: b'hello itheima, '\n",
      "当前文件的位置是： 15\n",
      "当前文件位置: 20\n"
     ]
    }
   ],
   "source": [
    "f=open(\"itheima.txt\",\"rb+\")\n",
    "str=f.read(15)\n",
    "print(\"读取的数据是:\",str)\n",
    "#查找当前位置\n",
    "position=f.tell()\n",
    "print(\"当前文件的位置是：\",position)\n",
    "# 重新设置位置\n",
    "f.seek(5,1)\n",
    "# 查找当前位置\n",
    "position = f.tell()\n",
    "print (\"当前文件位置:\",position)\n",
    "f.close()"
   ]
  },
  {
   "cell_type": "markdown",
   "metadata": {},
   "source": [
    "#### 读写位置在文件末尾三字节处"
   ]
  },
  {
   "cell_type": "code",
   "execution_count": 43,
   "metadata": {},
   "outputs": [
    {
     "name": "stdout",
     "output_type": "stream",
     "text": [
      "读取的数据是: b'hello itheima, '\n",
      "当前文件的位置是： 15\n",
      "当前文件位置: 75\n"
     ]
    }
   ],
   "source": [
    "f=open(\"itheima.txt\",\"rb+\")\n",
    "str=f.read(15)\n",
    "print(\"读取的数据是:\",str)\n",
    "#查找当前位置\n",
    "position=f.tell()\n",
    "print(\"当前文件的位置是：\",position)\n",
    "# 重新设置位置\n",
    "f.seek(-4,2)\n",
    "# 查找当前位置\n",
    "position = f.tell()\n",
    "print (\"当前文件位置:\",position)\n",
    "f.close()"
   ]
  },
  {
   "cell_type": "markdown",
   "metadata": {},
   "source": [
    "# 文件的重命名和删除"
   ]
  },
  {
   "cell_type": "markdown",
   "metadata": {},
   "source": [
    "## 文件的重命名\n",
    "    os.rename(src,dst)"
   ]
  },
  {
   "cell_type": "code",
   "execution_count": 44,
   "metadata": {},
   "outputs": [],
   "source": [
    "import os\n",
    "os.rename(\"itheima.txt\",\"itheimademo.txt\")"
   ]
  },
  {
   "cell_type": "markdown",
   "metadata": {},
   "source": [
    "## 文件的删除\n",
    "    os.remove(path)"
   ]
  },
  {
   "cell_type": "code",
   "execution_count": 45,
   "metadata": {},
   "outputs": [],
   "source": [
    "import os\n",
    "os.remove(\"itheimademo.txt\")"
   ]
  },
  {
   "cell_type": "markdown",
   "metadata": {},
   "source": [
    "# 文件夹的相关操作"
   ]
  },
  {
   "cell_type": "markdown",
   "metadata": {},
   "source": [
    "## 创建文件夹\n",
    "    mkdir（）"
   ]
  },
  {
   "cell_type": "code",
   "execution_count": 46,
   "metadata": {},
   "outputs": [],
   "source": [
    "import os\n",
    "os.mkdir(\"小恒\")"
   ]
  },
  {
   "cell_type": "markdown",
   "metadata": {},
   "source": [
    "## 获取当前目录\n",
    "    getcwd方法"
   ]
  },
  {
   "cell_type": "code",
   "execution_count": 47,
   "metadata": {},
   "outputs": [
    {
     "data": {
      "text/plain": [
       "'C:\\\\Users\\\\小小恒星\\\\1-Python_rumen\\\\chapter8_文件操作'"
      ]
     },
     "execution_count": 47,
     "metadata": {},
     "output_type": "execute_result"
    }
   ],
   "source": [
    "import os\n",
    "os.getcwd()"
   ]
  },
  {
   "cell_type": "markdown",
   "metadata": {},
   "source": [
    "## 改变默认目录\n",
    "    chdir方法"
   ]
  },
  {
   "cell_type": "code",
   "execution_count": null,
   "metadata": {},
   "outputs": [],
   "source": [
    "import os\n",
    "os.chdir(\"../\")"
   ]
  },
  {
   "cell_type": "markdown",
   "metadata": {},
   "source": [
    "## 获取目录列表\n",
    "    listdir（）"
   ]
  },
  {
   "cell_type": "code",
   "execution_count": 54,
   "metadata": {},
   "outputs": [
    {
     "data": {
      "text/plain": [
       "['.ipynb_checkpoints', 'itheima.txt', 'itheima[复件].txt', '小恒', '文件.ipynb']"
      ]
     },
     "execution_count": 54,
     "metadata": {},
     "output_type": "execute_result"
    }
   ],
   "source": [
    "import os\n",
    "os.listdir(\"./\")"
   ]
  },
  {
   "cell_type": "markdown",
   "metadata": {},
   "source": [
    "## 删除文件夹"
   ]
  },
  {
   "cell_type": "code",
   "execution_count": 56,
   "metadata": {},
   "outputs": [],
   "source": [
    "import os\n",
    "os.rmdir(\"张三\")"
   ]
  },
  {
   "cell_type": "markdown",
   "metadata": {},
   "source": [
    "# 文件操作应用--批量修改文件名"
   ]
  },
  {
   "cell_type": "code",
   "execution_count": 60,
   "metadata": {},
   "outputs": [
    {
     "name": "stdout",
     "output_type": "stream",
     "text": [
      ".ipynb_checkpoints\n",
      "[黑马程序员]-.ipynb_checkpoints\n",
      "itheima.txt\n",
      "[黑马程序员]-itheima.txt\n",
      "itheima[复件].txt\n",
      "[黑马程序员]-itheima[复件].txt\n",
      "学员信息\n",
      "[黑马程序员]-学员信息\n",
      "小恒\n",
      "[黑马程序员]-小恒\n",
      "文件.ipynb\n",
      "[黑马程序员]-文件.ipynb\n"
     ]
    }
   ],
   "source": [
    "# 批量在文件名前加前缀\n",
    "import os\n",
    "funFlag = 1 # 1表示添加标志  2表示删除标志\n",
    "folderName = './'\n",
    "# 获取指定路径的所有文件名字\n",
    "dirList = os.listdir(folderName)\n",
    "# 遍历输出所有文件名字\n",
    "for name in dirList:\n",
    "    print(name)\n",
    "    if funFlag == 1:\n",
    "        newName = '[黑马程序员]-' + name\n",
    "    elif funFlag == 2:\n",
    "       \tnum = len('[黑马程序员]-')\n",
    "        newName = name[num:]\n",
    "    print(newName)\n",
    "    os.rename(folderName+name, folderName+newName)"
   ]
  },
  {
   "cell_type": "markdown",
   "metadata": {},
   "source": [
    "# 文件案例--学生管理系统(文件版)"
   ]
  },
  {
   "cell_type": "markdown",
   "metadata": {},
   "source": [
    "## 1-在表示菜单列表的函数中，新增一个保存数据的功能项"
   ]
  },
  {
   "cell_type": "code",
   "execution_count": null,
   "metadata": {},
   "outputs": [],
   "source": [
    "#用来保存学生的所有信息\n",
    "stuInfos=[]\n",
    "#打印功能提示\n",
    "def printMenu():\n",
    "    print(\"=\"*30)\n",
    "    print(\" 学生管理系统V1.0 \")\n",
    "    print(\"1.添加学生信息\")\n",
    "    print(\"2.删除学生信息\")\n",
    "    print(\"3.修改学生信息\")\n",
    "    print(\"4.显示所有学生信息\")\n",
    "     print(\"5.保存数据\")\n",
    "    print(\"0.退出系统\")\n",
    "    print(\"=\"*30)"
   ]
  },
  {
   "cell_type": "markdown",
   "metadata": {},
   "source": [
    "## 2-知道学生信息保存在变量stuInfo中，\n",
    "    它里面是多个字典。但是，write函数传入的参数必须是字符串类型，所以需要把字典强制转成字符串。\n",
    "    定义保存数据的函数"
   ]
  },
  {
   "cell_type": "code",
   "execution_count": 62,
   "metadata": {},
   "outputs": [],
   "source": [
    "# 保存当前所有的学生信息到文件中\n",
    "def saveToFile():\n",
    "    f = open(\"backup.data\",\"w\")\n",
    "    f.write(str(stuInfos))\n",
    "    f.close()"
   ]
  },
  {
   "cell_type": "markdown",
   "metadata": {},
   "source": [
    "## 3-从文件读取到的内容是字符串，\n",
    "    我们可以把这些带有特定格式的字符串转换成其原有的类型，所以调用eval函数把字符串转换成字典。定义从文件中恢复数据的函数，代码如下："
   ]
  },
  {
   "cell_type": "code",
   "execution_count": 63,
   "metadata": {},
   "outputs": [],
   "source": [
    "# 恢复数据\n",
    "def recoverData():\n",
    "    global stuInfos\n",
    "    f = open(\"backup.data\")\n",
    "    content = f.read()\n",
    "    stuInfos = eval(content)\n",
    "    f.close()"
   ]
  },
  {
   "cell_type": "markdown",
   "metadata": {},
   "source": [
    "## 4-在main函数中执行，代码如下:"
   ]
  },
  {
   "cell_type": "code",
   "execution_count": null,
   "metadata": {},
   "outputs": [],
   "source": []
  },
  {
   "cell_type": "code",
   "execution_count": null,
   "metadata": {},
   "outputs": [],
   "source": []
  },
  {
   "cell_type": "code",
   "execution_count": null,
   "metadata": {},
   "outputs": [],
   "source": []
  },
  {
   "cell_type": "code",
   "execution_count": null,
   "metadata": {},
   "outputs": [],
   "source": [
    "#用来保存学生的所有信息\n",
    "stuInfos=[]\n",
    "#打印功能提示\n",
    "def printMenu():\n",
    "    print(\"=\"*30)\n",
    "    print(\" 学生管理系统V1.0 \")\n",
    "    print(\"1.添加学生信息\")\n",
    "    print(\"2.删除学生信息\")\n",
    "    print(\"3.修改学生信息\")\n",
    "    print(\"4.显示所有学生信息\")\n",
    "    print(\"0.退出系统\")\n",
    "    print(\"=\"*30)\n",
    "#添加一个学生信息\n",
    "def addStuInfo():\n",
    "    # 提示并获取学生的姓名\n",
    "    newName = input(\"请输入新学生的名字：\")\n",
    "    # 提示并获取学生的性别\n",
    "    newSex = input(\"请输入新学生的性别：(男/女)\")\n",
    "    # 提示并获取学生的手机号码\n",
    "    newPhone = input(\"请输入新学生的手机号码：\")\n",
    "    newInfo = {}\n",
    "    newInfo['name'] = newName\n",
    "    newInfo['sex'] = newSex\n",
    "    newInfo['phone'] = newPhone\n",
    "    stuInfos.append(newInfo)\n",
    "    \n",
    "#删除一个学生的信息    \n",
    "def delStuInfo(student):\n",
    "    delNum = int (input(\"请输入要删除的序号:\"))-1\n",
    "    del student [delNum]\n",
    "    \n",
    "#修改一个学生的信息\n",
    "def modifyStuInfo():\n",
    "     stuId=int(input(\"请输入要修改的学生的序号：\"))\n",
    "     newName = input(\"请输入新学生的名字：\")\n",
    "     newSex = input(\"请输入新学生的性别：(男/女)\")\n",
    "     newPhone = input(\"请输入新学生的手机号码：\")\n",
    "     stuInfos[stuId - 1]['name'] = newName\n",
    "     stuInfos[stuId - 1]['sex'] = newSex\n",
    "     stuInfos[stuId - 1]['phone'] = newPhone\n",
    "# 定义一个用户显示所有学生信息的函数\n",
    "def showStuInfo():\n",
    "    print(\"=\" * 30)\n",
    "    print(\"学生的信息如下:\")\n",
    "    print(\"=\" * 30)\n",
    "    print(\"序号    姓名    性别   手机号码\")\n",
    "    i = 1\n",
    "    for tempInfo in stuInfos:\n",
    "        print(\"%d      %s      %s     %s\" % (i, tempInfo['name'],tempInfo['sex'], tempInfo['phone']))\n",
    "        i += 1\n",
    "def main():\n",
    "    while True: \n",
    "        printMenu()    # 打印菜单\n",
    "        key = input(\"请输入功能对应的数字\")  #获得用户输入的序号\n",
    "        if key == '1':      # 添加学生的信息\n",
    "            addStuInfo()\n",
    "        elif key == '2':    # 删除学生信息\n",
    "            delStuInfo(student)\n",
    "        elif key == '3':    # 修改学生信息\n",
    "            modifyStuInfo()\n",
    "        elif key == '4':    # 查看所有学生信息\n",
    "            showStuInfo()\n",
    "        elif key =='0':# 退出系统\n",
    "            quitConfirm == input(\"亲，真的要退出么？(Yes or No):\")\n",
    "            if quitConfirm ==\"Yes\":\n",
    "                break #结束循环\n",
    "            else:\n",
    "                print(\"输入有误，请重新输入\")\n",
    "main()"
   ]
  },
  {
   "cell_type": "code",
   "execution_count": null,
   "metadata": {},
   "outputs": [],
   "source": []
  },
  {
   "cell_type": "code",
   "execution_count": null,
   "metadata": {},
   "outputs": [],
   "source": []
  },
  {
   "cell_type": "code",
   "execution_count": null,
   "metadata": {},
   "outputs": [],
   "source": []
  },
  {
   "cell_type": "code",
   "execution_count": null,
   "metadata": {},
   "outputs": [],
   "source": []
  },
  {
   "cell_type": "code",
   "execution_count": null,
   "metadata": {},
   "outputs": [],
   "source": []
  },
  {
   "cell_type": "code",
   "execution_count": null,
   "metadata": {},
   "outputs": [],
   "source": []
  },
  {
   "cell_type": "code",
   "execution_count": null,
   "metadata": {},
   "outputs": [],
   "source": []
  },
  {
   "cell_type": "code",
   "execution_count": null,
   "metadata": {},
   "outputs": [],
   "source": []
  },
  {
   "cell_type": "code",
   "execution_count": null,
   "metadata": {},
   "outputs": [],
   "source": []
  },
  {
   "cell_type": "code",
   "execution_count": null,
   "metadata": {},
   "outputs": [],
   "source": []
  }
 ],
 "metadata": {
  "kernelspec": {
   "display_name": "Python 3",
   "language": "python",
   "name": "python3"
  },
  "language_info": {
   "codemirror_mode": {
    "name": "ipython",
    "version": 3
   },
   "file_extension": ".py",
   "mimetype": "text/x-python",
   "name": "python",
   "nbconvert_exporter": "python",
   "pygments_lexer": "ipython3",
   "version": "3.7.0"
  }
 },
 "nbformat": 4,
 "nbformat_minor": 2
}
