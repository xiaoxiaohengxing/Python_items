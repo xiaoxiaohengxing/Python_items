{
 "cells": [
  {
   "cell_type": "markdown",
   "metadata": {},
   "source": [
    "# 面向对象编程上"
   ]
  },
  {
   "cell_type": "markdown",
   "metadata": {},
   "source": [
    "## 面向对象编程概述\n",
    "\n",
    "    用对象来映射现实中的事物,使用对象间的关系来描述事物之间的联系,这种思想就是面向对象。 \n",
    "    在程序中使提到面向对象，自然会想到面向过程。\n",
    "        面向过程就是分析出解决问题的步骤,然后用函数把这些步骤一一实现,使用的时候一个一个依次调用即可。\n",
    "        面向对象则是把解决问题的事物分解成多个对象,而建立对象的目的也不是为了完成一个个步骤,\n",
    "            而是为了描述某个事物在解决整个向题的过程中所发生的行为。\n",
    "            \n",
    "    下面举一个五子棋的例子说明面向过程和面向对蒙镇程的区别。\n",
    "        首先使用面向过程:\n",
    "            1.开始游戏\n",
    "            2.黑子先走\n",
    "            3.绘制画面\n",
    "            4．判断输赢\n",
    "            5.轮到白子\n",
    "            6.绘制画面\n",
    "            7.判断输赢\n",
    "            8.返回步骤2\n",
    "            9.输出最的结果.\n",
    "        面向对象的设计则是从男一糊总路来解决问题。\n",
    "            使用面向对象思想实现五子棋时,整个五其可以分为三类对象具体如下。\n",
    "                1.黑白双方:这两方的行为一样\n",
    "                2. 盘系统:负责绘制画面\n",
    "                3.规则系统:负责判断诸如犯规、输赢等"
   ]
  },
  {
   "cell_type": "markdown",
   "metadata": {},
   "source": [
    "## 类和对象\n",
    "    对象是现实生活中具体存在的事物。\n",
    "    类是抽象的，它是对一群具有相同特征和行为的事物的统称。"
   ]
  },
  {
   "cell_type": "markdown",
   "metadata": {},
   "source": [
    "### 类和对象的关系\n",
    "    类用于描述多个对象的共同特征，它是对象的模板。对象用于描述现实中的个体，它是类的实例。\n",
    "    对象是根据类创建的，并且一个类可以对应多个对象。"
   ]
  },
  {
   "cell_type": "markdown",
   "metadata": {},
   "source": [
    "### 类的定义\n",
    "    面向对象设计思想是把事物的特征和行为包含在类中。其中，事物的特征当作类的属性，事物的行为当作类的方法，而对象是类的一个实例。\n",
    "        所以想要创建一个对象，需要先定义一个类。\n",
    "            类有3部分组成\n",
    "                1-类名  首字母必须是大写，如Person\n",
    "                2-属性  描述事物特征      如，姓名，年龄等\n",
    "                3-方法  描述事物行为      如，人具有说话，微笑等行为。\n",
    "                基本语法格式：\n",
    "                    class 类名:\n",
    "                        类的属性\n",
    "                        类的方法\n",
    "                代码:\n",
    "                    class Cat：\n",
    "                        # 属性\n",
    "                        # 方法\n",
    "                        def eat(self)\n",
    "                            print(\"----吃鱼----\")\n",
    "                    方法跟函数的格式是一样的，主要区别在于方法必须显式地声明一个self参数，而且位于参数列表的开头。\n",
    "                        self代表类的实例（对象）本身，可以用来引用对象的属性和方法"
   ]
  },
  {
   "cell_type": "markdown",
   "metadata": {},
   "source": [
    "### 根据类创建对象\n",
    "     对象名 = 类名\n",
    "         cat = Cat()\n",
    "             cat实际上是一个变量，可以使用它来访问类的属性和方法。\n",
    "                 要想给对象添加属性，可以：\n",
    "                     对象名.新的属性名 = 值\n",
    "                 使用cat给Cat类的对象添加color属性，如下:\n",
    "                     cat.color = \"黑色\""
   ]
  },
  {
   "cell_type": "code",
   "execution_count": 1,
   "metadata": {},
   "outputs": [
    {
     "name": "stdout",
     "output_type": "stream",
     "text": [
      "车在奔跑...\n",
      "车在鸣笛...嘟嘟...\n",
      "黑色\n"
     ]
    }
   ],
   "source": [
    "# 定义类\n",
    "class Car:\n",
    "    # 移动\n",
    "    def move(self):\n",
    "        print(\"车在奔跑...\")\n",
    "    # 鸣笛\n",
    "    def toot(self):\n",
    "        print(\"车在鸣笛...嘟嘟...\")\n",
    "# 创建一个对象，并用变量BMW保存它的引用\n",
    "BMW = Car()\n",
    "# 添加表示颜色的属性\n",
    "BMW.color = \"黑色\"\n",
    "# 调用方法\n",
    "BMW.move()\n",
    "BMW.toot()\n",
    "# 访问属性\n",
    "print(BMW.color)"
   ]
  },
  {
   "cell_type": "markdown",
   "metadata": {},
   "source": [
    "## 构造方法和析构方法\n",
    "    提供了两个比较特殊的方法:__init__()和__del__()\n",
    "        分别用于初始化对象的属性和释放类所占用的资源。"
   ]
  },
  {
   "cell_type": "markdown",
   "metadata": {},
   "source": [
    "### 构造方法\n",
    "    每创建一个对象，就需要添加一次属性，这种做法很麻烦。\n",
    "        为了解决这个问题，可以在创建对象的时候就设置好属性，Python提供了一个构造方法，该方法固定名称为__init__。\n",
    "            当创建类的实例时候，系统会自动调用构造方法，从而实现对类进行初始化操作。"
   ]
  },
  {
   "cell_type": "markdown",
   "metadata": {},
   "source": [
    "#### 1-使用构造方法"
   ]
  },
  {
   "cell_type": "code",
   "execution_count": 2,
   "metadata": {},
   "outputs": [
    {
     "name": "stdout",
     "output_type": "stream",
     "text": [
      "黑色的车在鸣笛...\n"
     ]
    }
   ],
   "source": [
    "# 定义类\n",
    "class Car:\n",
    "    # 构造方法\n",
    "    def __init__(self):\n",
    "        self.color = \"黑色\"\n",
    "    # 鸣笛\n",
    "    def toot(self):\n",
    "        print(\"%s的车在鸣笛...\"%(self.color))\n",
    "# 创建一个对象，并用变量car保存它的引用\n",
    "car = Car()\n",
    "# 汽车鸣笛\n",
    "car.toot()"
   ]
  },
  {
   "cell_type": "markdown",
   "metadata": {},
   "source": [
    "### 2-使用带参构造方法\n",
    "    如果想要在对象创建完成后修改属性的默认值，可以在构造方法中传入参数设置属性的值。"
   ]
  },
  {
   "cell_type": "code",
   "execution_count": 3,
   "metadata": {},
   "outputs": [
    {
     "name": "stdout",
     "output_type": "stream",
     "text": [
      "雪山白颜色的车在鸣笛...\n",
      "红颜色的车在鸣笛...\n"
     ]
    }
   ],
   "source": [
    "# 定义类\n",
    "class Car:\n",
    "    # 带参构造方法\n",
    "    def __init__(self, color):\n",
    "        self.color = color\n",
    "    # 鸣笛\n",
    "    def toot(self):\n",
    "        print(\"%s颜色的车在鸣笛...\"%self.color)\n",
    "# 创建一个对象，并用变量bmw保存它的引用\n",
    "bmw = Car(\"雪山白\")\n",
    "# 创建一个对象，并用变量ferrari保存它的引用\n",
    "ferrari = Car(\"红\")\n",
    "# 汽车鸣笛\n",
    "bmw.toot()\n",
    "ferrari.toot()"
   ]
  },
  {
   "cell_type": "markdown",
   "metadata": {},
   "source": [
    "### 析构方法\n",
    "    当删除一个对象来释放类所占用资源的时候，Python解释器默认会调用另外一个方法，这个方法就是__del__（）方法。"
   ]
  },
  {
   "cell_type": "code",
   "execution_count": 4,
   "metadata": {},
   "outputs": [
    {
     "name": "stdout",
     "output_type": "stream",
     "text": [
      "--------del--------\n",
      "---------1---------\n"
     ]
    }
   ],
   "source": [
    "# 定义类\n",
    "class Person:\n",
    "    def __init__(self, name, age):\n",
    "        self.name = name\n",
    "        self.age = age\n",
    "    def __del__(self):\n",
    "        print(\"--------del--------\")\n",
    "laowang = Person(\"老王\", 30)\n",
    "del laowang\n",
    "print(\"---------1---------\")"
   ]
  },
  {
   "cell_type": "markdown",
   "metadata": {},
   "source": [
    "### self的使用\n",
    "    在方法的定义中，第1个参数永远都是self。当某个对象作为第1个参数传给self，开发者只需要传递后面的参数就可以了。"
   ]
  },
  {
   "cell_type": "code",
   "execution_count": null,
   "metadata": {},
   "outputs": [],
   "source": [
    "# 定义类\n",
    "class Dog:\n",
    "    def __init__(self, newColor):\n",
    "        self.color = newColor\n",
    "    def printColor(self):\n",
    "        print(\"颜色为：%s\"%self.color)\n",
    "dog1 =  Dog(\"白色\")\n",
    "dog1.printColor()\n",
    "dog2 = Dog(\"黑色\")\n",
    "dog2.printColor()"
   ]
  },
  {
   "cell_type": "markdown",
   "metadata": {},
   "source": [
    "### 运算符重载"
   ]
  },
  {
   "cell_type": "markdown",
   "metadata": {},
   "source": [
    "#### 加法运算符重载"
   ]
  },
  {
   "cell_type": "code",
   "execution_count": null,
   "metadata": {},
   "outputs": [],
   "source": [
    "# 定义类\n",
    "class Demo:\n",
    "    # 定义构造方法\n",
    "    def __init__(self, obj):\n",
    "        self.data = obj[:]\n",
    "    # 实现加法运算方法的重载，将两个列表对应元素相加\n",
    "    def __add__(self, obj):\n",
    "        x = len(self.data)\n",
    "        y = len(obj.data)\n",
    "        max = x if x>y else y\n",
    "        nl = []\n",
    "        for n in  range(max):\n",
    "            nl.append(self.data[n] + obj.data[n])\n",
    "        # 返回包含新列表的实例对象\n",
    "        return Demo(nl[:])\n",
    "# 创建实例对象并初始化\n",
    "x = Demo([1,2,3])\n",
    "y = Demo([10,20,30])\n",
    "# 执行加法运算，实质是调用__add__方法\n",
    "z = x+y\n",
    "# 显示加法运算后新实例对象的data属性值\n",
    "print(z.data)"
   ]
  },
  {
   "cell_type": "markdown",
   "metadata": {},
   "source": [
    "#### 索引和分片重载"
   ]
  },
  {
   "cell_type": "markdown",
   "metadata": {},
   "source": [
    "##### 1-__getitem__方法"
   ]
  },
  {
   "cell_type": "code",
   "execution_count": null,
   "metadata": {},
   "outputs": [],
   "source": []
  },
  {
   "cell_type": "markdown",
   "metadata": {},
   "source": [
    "##### 2-__setitem__方法"
   ]
  },
  {
   "cell_type": "code",
   "execution_count": null,
   "metadata": {},
   "outputs": [],
   "source": []
  },
  {
   "cell_type": "markdown",
   "metadata": {},
   "source": [
    "#####  3-__delitem__方法"
   ]
  },
  {
   "cell_type": "markdown",
   "metadata": {},
   "source": [
    "#### 定制对象的字符串形式\n",
    "    重载__repr__和__str__方法可以定义对象转换为字符串的形式，\n",
    "        在执行print、str、repr以及交互模式下直接显示对象时，会调用__repr__和__str__方法。"
   ]
  },
  {
   "cell_type": "markdown",
   "metadata": {},
   "source": [
    "##### 1-只重载__str__方法\n",
    "    如果只是重载了__str__方法，只有str和print函数可以调用这个方法进行转换。接下来通过案例来转换对象为字符串。"
   ]
  },
  {
   "cell_type": "code",
   "execution_count": 5,
   "metadata": {},
   "outputs": [
    {
     "name": "stdout",
     "output_type": "stream",
     "text": [
      "data1=100; data2=200\n",
      "data1=100; data2=200\n",
      "<__main__.Demo object at 0x000002795CFA5D30>\n"
     ]
    }
   ],
   "source": [
    "# 定义类\n",
    "class Demo:\n",
    "    data1 = 100\n",
    "    # 定义为属性data2赋值的方法\n",
    "    def set(self, num):\n",
    "        self.data2 = num\n",
    "    # 重载方法\n",
    "    def __str__(self):\n",
    "        # 返回自定义的字符串\n",
    "        return 'data1=%s; data2=%s'%(self.data1,self.data2)\n",
    "# 创建实例对象\n",
    "demo = Demo()\n",
    "# 调用方法给属性赋值，并创建属性\n",
    "demo.set(200)\n",
    "print(demo)         # 调用__str__方法进行转换\n",
    "print(str(demo))   # 调用repr函数，结果显示没有进行转换\n",
    "print(repr(demo))  # 调用__str__方法进行转换"
   ]
  },
  {
   "cell_type": "markdown",
   "metadata": {},
   "source": [
    "##### 2-只重载__repr__方法\n",
    "    重载__repr__方法，可以保证各种操作下都能正确获得实例对象自定义的字符串形式。"
   ]
  },
  {
   "cell_type": "code",
   "execution_count": 6,
   "metadata": {},
   "outputs": [
    {
     "name": "stdout",
     "output_type": "stream",
     "text": [
      "data1 = 100; data2 = 200\n",
      "data1 = 100; data2 = 200\n",
      "data1 = 100; data2 = 200\n"
     ]
    }
   ],
   "source": [
    "# 定义类\n",
    "class Demo:\n",
    "    data1 = 100\n",
    "    # 定义为属性data2赋值的方法\n",
    "    def set(self, num):\n",
    "        self.data2 = num\n",
    "    # 重载方法\n",
    "    def __repr__(self):\n",
    "        # 返回自定义的字符串\n",
    "        return 'data1 = %s; data2 = %s'%(self.data1, self.data2)\n",
    "# 创建实例对象\n",
    "demo = Demo()\n",
    "# 调用方法给属性赋值，并创建属性\n",
    "demo.set(200)\n",
    "# 调用__repr__方法进行转换\n",
    "print(demo)\n",
    "print(str(demo))\n",
    "print(repr(demo))"
   ]
  },
  {
   "cell_type": "markdown",
   "metadata": {},
   "source": [
    "##### 3-同时重载__str__方法和__repr__方法\n",
    "    如果同时重载了__str__和__repr__方法，则str和print函数调用的是__str__方法。\n",
    "    交互模式下直接显示对象和repr函数调用的是__repr__方法"
   ]
  },
  {
   "cell_type": "code",
   "execution_count": 7,
   "metadata": {},
   "outputs": [
    {
     "name": "stdout",
     "output_type": "stream",
     "text": [
      "repr转换：data1 = 100; data2 = abc\n",
      "str转换：data1 = 100; data2 = abc\n",
      "str转换：data1 = 100; data2 = abc\n"
     ]
    }
   ],
   "source": [
    "# 定义类\n",
    "class Demo:\n",
    "    data1 = 100\n",
    "    # 定义为属性data2赋值的方法\n",
    "    def set(self, num):\n",
    "        self.data2 = num\n",
    "    # 重载方法\n",
    "    def __repr__(self):\n",
    "        # 返回自定义的字符串\n",
    "        return 'repr转换：data1 = %s; data2 = %s'%(self.data1, self.data2)\n",
    "    def __str__(self):\n",
    "        return 'str转换：data1 = %s; data2 = %s'%(self.data1, self.data2)\n",
    "# 创建实例对象\n",
    "demo = Demo()\n",
    "# 调用方法给属性赋值，并创建属性\n",
    "demo.set('abc')\n",
    "# 调用__repr__方法进行转换\n",
    "print(repr(demo))\n",
    "print(str(demo))\n",
    "print(demo)"
   ]
  },
  {
   "cell_type": "markdown",
   "metadata": {},
   "source": [
    "# 阶段案例--反恐精英CS\n",
    "\n",
    "    案例需求:\n",
    "    \n",
    "        在全世界风靡起来的反恐精英是一种以团队合作为主的第一人称射击游戏,简称CS。\n",
    "        根据面向对象的编程思想,模拟实现一个战士开枪射击敌人的场景,\n",
    "        在上述场景中，有战士(玩家)、敌人、枪共三个对象,其中枪里面又包括弹夹、子弹共两个对象。场景中这几个对象间的关系如下:\n",
    "            (1)战士和敌人均属于人类，他们默认的血量是100;\n",
    "            (2)战士射击时必须保证所持枪的弹夹中有子弹,并且每射击一次,弹夹中的子弹数量就会减少一枚:\n",
    "            (3)战士射出的子弹击中了敌人,敌人就会由于子弹的杀伤力而出现掉血的行为,即每击中敌人一次,敌人的血量就减少5。\n",
    "            \n",
    "    案例分析:\n",
    "    \n",
    "        面向对象最重要的是类的设计,所以对案例分析的时候,首先根据“名词提炼法”,分析  务流程中需要设计的类,然后分析类所拥有的属性和方法。根据这个模拟的场景,我们可分析出来的类具体如下。\n",
    "        (1)士兵和敌人类  \n",
    "            属性:姓名(name)、血量(blood )、枪(gun )o  \n",
    "            方法:安装子弹、安装弹夹、拿枪、开枪。\n",
    "        (2)子弹类\n",
    "            属性:杀伤力。  \n",
    "            方法:伤害敌人(让敌人掉血)。\n",
    "        (3)弹夹类\n",
    "            属性：容量（子弹存储的最大值)、当前保存的子弹。  \n",
    "            方法：保存子弹（安装子弹)、弹出子弹(开枪的时候).\n",
    "        (4)枪类\n",
    "            属性:弹夹(默认没有弹夹,需要安装)。\n",
    "            方法:连接弹夹、射子弹。"
   ]
  },
  {
   "cell_type": "markdown",
   "metadata": {},
   "source": [
    "## 1-定义战士和敌人类型\n",
    "    1.战士和敌人属于同一类型,所以定义表示战士和敌人的类Person,并在__int()__方法中设置默认的血量为100,名字由创建的对象来设定,具体如下。"
   ]
  },
  {
   "cell_type": "code",
   "execution_count": null,
   "metadata": {},
   "outputs": [],
   "source": [
    "# 定义表示战士、敌人的类\n",
    "class Person:\n",
    "    def __init__(self, name):\n",
    "        # 姓名\n",
    "        self.name = name\n",
    "        # 血量\n",
    "        self.blood = 100"
   ]
  },
  {
   "cell_type": "markdown",
   "metadata": {},
   "source": [
    "    战士要想开枪射击敌人,必须具备把子弹安装到弹夹的功能。所以在Person类中定义一个用于安装子弹的方法,具体如下。"
   ]
  },
  {
   "cell_type": "code",
   "execution_count": null,
   "metadata": {},
   "outputs": [],
   "source": [
    " # 给弹夹安装子弹\n",
    "    def installBullet(self, clip, bullet):\n",
    "        # 弹夹放置子弹\n",
    "        clip.saveBullets(bullet)\n",
    "# 在上述方法中共有三个参数,其中clip参数表示放置子弹的弹夹, bullet参数表示准备放到弹夹的子弹。\n",
    "#然后在方法内部, clip调用saveBullets方法把子弹放到弹夹里面。"
   ]
  },
  {
   "cell_type": "markdown",
   "metadata": {},
   "source": [
    "## 2-定义弹夹类型\n",
    "    定义一个表示弹夹的类Clip,在init ()方法中设置默认的子弹个数和最大容量,接着添加一个用于保存子弹的saveBules方法,具体如下。"
   ]
  },
  {
   "cell_type": "code",
   "execution_count": null,
   "metadata": {},
   "outputs": [],
   "source": [
    "# 定义表示弹夹的类\n",
    "class Clip:\n",
    "    def __init__(self, capacity):\n",
    "        # 最大容量\n",
    "        self.capacity = capacity\n",
    "        # 当前子弹数量\n",
    "        self.currentList = []\n",
    "    # 安装子弹\n",
    "    def saveBullets(self, bullet):\n",
    "        # 当前子弹数量小于最大容量\n",
    "        if len(self.currentList) < self.capacity:\n",
    "            self.currentList.append(bullet)\n",
    "    def __str__(self):\n",
    "        return \"弹夹当前的子弹数量为：\" + str(len(self.currentList)) + \"/\" +str(self.capacity)\n",
    "            "
   ]
  },
  {
   "cell_type": "markdown",
   "metadata": {},
   "source": [
    "    在上述代码中,首先在构造方法中添加了capacity (最大容量)和currentList (当前子弹量)两个属性,\n",
    "    然后定义了安装子弹的方法,该方法有一个bullet (子弹)参数,在方法的内部使用f语句判断，\n",
    "    只有当前子弹的数量比弹夹的最大容量小,才能够往弹夹里面装子弹。"
   ]
  },
  {
   "cell_type": "markdown",
   "metadata": {},
   "source": [
    "## 3-定义子弹类型\n",
    "    定义一个表示子弹的类Bullet,具体如下。"
   ]
  },
  {
   "cell_type": "code",
   "execution_count": null,
   "metadata": {},
   "outputs": [],
   "source": [
    "# 定义表示子弹的类\n",
    "class Bullet:\n",
    "    pass"
   ]
  },
  {
   "cell_type": "markdown",
   "metadata": {},
   "source": [
    "## 4-验证安装子弹的功能\n",
    "    通过判断当前弹夹拥有的子弹数量,验证安装子弹的功能是否正确。\n",
    "    首先,分别创建一个战士类和弹夹类的对象,然后使用while循环添加几枚子弹,并输出弹夹中子弹的个数,具体如下。"
   ]
  },
  {
   "cell_type": "code",
   "execution_count": null,
   "metadata": {},
   "outputs": [],
   "source": [
    "# 创建一个战士\n",
    "soldier = Person(\"老王\")\n",
    "# 创建一个弹夹\n",
    "clip = Clip(20)\n",
    "print(clip)\n",
    "# 添加5颗子弹\n",
    "i = 0\n",
    "while i<5:\n",
    "    # 创建一个子弹\n",
    "    bullet = Bullet()\n",
    "    # 战士安装子弹到弹夹\n",
    "    soldier.installBullet(clip, bullet)\n",
    "    i += 1\n",
    "# 输出当前弹夹中子弹的数量\n",
    "print(clip)\n",
    "\n",
    " # 创建一个枪\n",
    "gun = Gun()\n",
    "print(gun)\n",
    "# 安装弹夹\n",
    "soldier.installClip(gun, clip)\n",
    "print(gun)  "
   ]
  },
  {
   "cell_type": "markdown",
   "metadata": {},
   "source": [
    "    由于在上述代码中打印了clip对象的信息,所以在Clip类中添加_str_方法调试程序,具体如下。\n",
    "          def __str__(self):\n",
    "        return \"弹夹当前的子弹数量为：\" + str(len(self.currentList)) + \"/\" +str(self.capacity)"
   ]
  },
  {
   "cell_type": "markdown",
   "metadata": {},
   "source": [
    "## 5-给枪安装弹夹\n",
    "    弹夹上完子弹以后,战士(老王)应该把装有子弹的弹夹安装到枪里面。所以在Person类  中增加一个用于把弹夹安装到枪里面的方法,具体如下。"
   ]
  },
  {
   "cell_type": "code",
   "execution_count": null,
   "metadata": {},
   "outputs": [],
   "source": [
    " # 给枪安装弹夹\n",
    "    def installClip(self, gun, clip):\n",
    "        # 枪链接弹夹\n",
    "        gun.mountingClip(clip)"
   ]
  },
  {
   "cell_type": "markdown",
   "metadata": {},
   "source": [
    "    接着定义一个表示枪的类Gun,并且添加一个用于让枪链接弹夹的方法,具体如下。"
   ]
  },
  {
   "cell_type": "code",
   "execution_count": null,
   "metadata": {},
   "outputs": [],
   "source": [
    "# 定义表示枪的类\n",
    "class Gun:\n",
    "    def __init__(self):\n",
    "        # 默认没有弹夹\n",
    "        self.clip = None\n",
    "    def __str__(self):\n",
    "        if self.clip:\n",
    "            return \"枪当前有弹夹\"\n",
    "        else:\n",
    "            return \"枪没有弹夹\"\n",
    "    # 链接弹夹\n",
    "    def mountingClip(self, clip):\n",
    "        if not self.clip:\n",
    "            self.clip = clip"
   ]
  },
  {
   "cell_type": "markdown",
   "metadata": {},
   "source": [
    "    上述代码中,在__init__()方法中设置了clip属性的值为None ,即没有弹夹,然后在mountingClip方法中使用i语句判断,如果枪里面没有弹夹,才需要链接弹夹。\n",
    "\t在验证安装子弹功能(第4个步骤)的代码后面,创建一个Gun类的对象,实现让枪链接弹夹的功能，具体如下。\n",
    "        # 创建一个枪\n",
    "        gun = Gun()\n",
    "        print(gun)\n",
    "        # 安装弹夹\n",
    "        soldier.installClip(gun, clip)\n",
    "        print(gun)  "
   ]
  },
  {
   "cell_type": "markdown",
   "metadata": {},
   "source": [
    "## 6-准备射击敌人\n",
    "    战士默认没有手枪,他需要持有一把枪以便射击敌人。因此,在Person类中增加拿枪和开枪的方法，具体如下。"
   ]
  },
  {
   "cell_type": "code",
   "execution_count": null,
   "metadata": {},
   "outputs": [],
   "source": [
    "# 持枪\n",
    "def takeGun(self, gun):\n",
    "    self.gun = gun\n",
    "# 开枪\n",
    "def fire(self, enemy):\n",
    "    # 射击敌人\n",
    "    self.gun.shoot(enemy)"
   ]
  },
  {
   "cell_type": "markdown",
   "metadata": {},
   "source": [
    "    如果要让枪射击敌人,前提是必须由弹夹提供子弹。所以在Gun类中实现开枪后弹夹推出 子弹的操作;\n",
    "        如果在射击敌人时弹夹里面有子弹,子弹会伤害到敌人;如果射击时没有子弹,会出现空枪。所以在Gun类中的shoot方法中处理这种情况,具体如下。"
   ]
  },
  {
   "cell_type": "code",
   "execution_count": null,
   "metadata": {},
   "outputs": [],
   "source": [
    "  # 射击\n",
    "def shoot(self, enemy):\n",
    "    bullet = self.clip.shotBullet()\n",
    "    if bullet:\n",
    "        bullet.hurt(enemy)\n",
    "    else:\n",
    "        print(\"没有子弹了，放了空枪...\")"
   ]
  },
  {
   "cell_type": "markdown",
   "metadata": {},
   "source": [
    "    在Bullet类中添加hurt方法，用于伤害敌人使其掉血，具体如下。"
   ]
  },
  {
   "cell_type": "code",
   "execution_count": null,
   "metadata": {},
   "outputs": [],
   "source": [
    "# 定义表示子弹的类\n",
    "class Bullet:\n",
    "    # 定义表示子弹的类\n",
    "    class Bullet:\n",
    "        def __init__(self, damage):\n",
    "            # 伤害力\n",
    "            self.damage = damage\n",
    "\n",
    "        # 伤害敌人\n",
    "        def hurt(self, enemy):\n",
    "            # 让敌人掉血\n",
    "            enemy.loseBlood(self.damage)"
   ]
  },
  {
   "cell_type": "markdown",
   "metadata": {},
   "source": [
    "    由于Bullet 类的_init__()方法发生了改变,因此对前面创建子弹类对象的代码进行修改,"
   ]
  },
  {
   "cell_type": "code",
   "execution_count": null,
   "metadata": {},
   "outputs": [],
   "source": [
    "# 创建一个子弹\n",
    "bullet = Bullet(5)"
   ]
  },
  {
   "cell_type": "markdown",
   "metadata": {},
   "source": [
    "    最后在Person类中添加loseBlood方法,用于在敌人受到攻击被击中后出现掉血行为,具体如下:"
   ]
  },
  {
   "cell_type": "code",
   "execution_count": null,
   "metadata": {},
   "outputs": [],
   "source": [
    "def __str__(self):\n",
    "            return self.name + \"剩余血量为：\" + str(self.blood)\n",
    "\n",
    "        # 掉血\n",
    "        def loseBlood(self, damage):\n",
    "            self.blood -= damage"
   ]
  },
  {
   "cell_type": "markdown",
   "metadata": {},
   "source": [
    "## 7-射击敌人\n",
    "    创建一个表示敌人的对象,让老王拿枪后开枪射击,具体如下。"
   ]
  },
  {
   "cell_type": "code",
   "execution_count": null,
   "metadata": {},
   "outputs": [],
   "source": [
    "创建一个表示敌人的对象,让老王拿枪后开枪射击,具体如下。"
   ]
  },
  {
   "cell_type": "code",
   "execution_count": 9,
   "metadata": {},
   "outputs": [
    {
     "name": "stdout",
     "output_type": "stream",
     "text": [
      "弹夹当前的子弹数量为：0/20\n",
      "弹夹当前的子弹数量为：5/20\n",
      "枪没有弹夹\n",
      "枪当前有弹夹\n"
     ]
    }
   ],
   "source": [
    "# 定义表示战士、敌人的类\n",
    "class Person:\n",
    "    def __init__(self, name):\n",
    "        # 姓名\n",
    "        self.name = name\n",
    "        # 血量\n",
    "        self.blood = 100\n",
    "    # 给弹夹安装子弹\n",
    "    def installBullet(self, clip, bullet):\n",
    "        # 弹夹放置子弹\n",
    "        clip.saveBullets(bullet)\n",
    "    # 给枪安装弹夹\n",
    "    def installClip(self, gun, clip):\n",
    "        # 枪链接弹夹\n",
    "        gun.mountingClip(clip)\n",
    "\n",
    "        # 持枪\n",
    "        def takeGun(self, gun):\n",
    "            self.gun = gun\n",
    "        # 开枪\n",
    "        def fire(self, enemy):\n",
    "            # 射击敌人\n",
    "            self.gun.shoot(enemy)\n",
    "\n",
    "        def __str__(self):\n",
    "            return self.name + \"剩余血量为：\" + str(self.blood)\n",
    "\n",
    "        # 掉血\n",
    "        def loseBlood(self, damage):\n",
    "            self.blood -= damage\n",
    "\n",
    "# 定义表示弹夹的类\n",
    "class Clip:\n",
    "    def __init__(self, capacity):\n",
    "        # 最大容量\n",
    "        self.capacity = capacity\n",
    "        # 当前子弹数量\n",
    "        self.currentList = []\n",
    "    # 安装子弹\n",
    "    def saveBullets(self, bullet):\n",
    "        # 当前子弹数量小于最大容量\n",
    "        if len(self.currentList) < self.capacity:\n",
    "            self.currentList.append(bullet)\n",
    "    def __str__(self):\n",
    "        return \"弹夹当前的子弹数量为：\" + str(len(self.currentList)) + \"/\" +str(self.capacity)\n",
    "    # 出子弹\n",
    "    def shotBullet(self):\n",
    "        # 判断当前弹夹中是否还有子弹\n",
    "        if len(self.currentList) > 0:\n",
    "            bullet = self.currentList[-1]\n",
    "            self.currentList.pop()\n",
    "            return bullet\n",
    "        else:\n",
    "            return None\n",
    "# 定义表示子弹的类\n",
    "class Bullet:\n",
    "    # 定义表示子弹的类\n",
    "    class Bullet:\n",
    "        def __init__(self, damage):\n",
    "            # 伤害力\n",
    "            self.damage = damage\n",
    "\n",
    "        # 伤害敌人\n",
    "        def hurt(self, enemy):\n",
    "            # 让敌人掉血\n",
    "            enemy.loseBlood(self.damage)\n",
    "\n",
    "# 创建一个战士\n",
    "soldier = Person(\"老王\")\n",
    "# 创建一个弹夹\n",
    "clip = Clip(20)\n",
    "print(clip)\n",
    "# 添加5颗子弹\n",
    "i = 0\n",
    "while i<5:\n",
    "    # 创建一个子弹\n",
    "    bullet = Bullet()\n",
    "    # 战士安装子弹到弹夹\n",
    "    soldier.installBullet(clip, bullet)\n",
    "    i += 1\n",
    "# 输出当前弹夹中子弹的数量\n",
    "print(clip)\n",
    "\n",
    "# 定义表示枪的类\n",
    "class Gun:\n",
    "    def __init__(self):\n",
    "        # 默认没有弹夹\n",
    "        self.clip = None\n",
    "    def __str__(self):\n",
    "        if self.clip:\n",
    "            return \"枪当前有弹夹\"\n",
    "        else:\n",
    "            return \"枪没有弹夹\"\n",
    "    # 链接弹夹\n",
    "    def mountingClip(self, clip):\n",
    "        if not self.clip:\n",
    "            self.clip = clip\n",
    "        # 射击\n",
    "        def shoot(self, enemy):\n",
    "            bullet = self.clip.shotBullet()\n",
    "            if bullet:\n",
    "                bullet.hurt(enemy)\n",
    "            else:\n",
    "                print(\"没有子弹了，放了空枪...\")\n",
    "\n",
    "# 创建一个枪\n",
    "gun = Gun()\n",
    "print(gun)\n",
    "# 安装弹夹\n",
    "soldier.installClip(gun, clip)\n",
    "print(gun)"
   ]
  },
  {
   "cell_type": "code",
   "execution_count": null,
   "metadata": {},
   "outputs": [],
   "source": []
  },
  {
   "cell_type": "code",
   "execution_count": null,
   "metadata": {},
   "outputs": [],
   "source": []
  }
 ],
 "metadata": {
  "kernelspec": {
   "display_name": "Python 3",
   "language": "python",
   "name": "python3"
  },
  "language_info": {
   "codemirror_mode": {
    "name": "ipython",
    "version": 3
   },
   "file_extension": ".py",
   "mimetype": "text/x-python",
   "name": "python",
   "nbconvert_exporter": "python",
   "pygments_lexer": "ipython3",
   "version": "3.7.0"
  }
 },
 "nbformat": 4,
 "nbformat_minor": 2
}
